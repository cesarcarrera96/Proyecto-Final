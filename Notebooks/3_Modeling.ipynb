{
 "cells": [
  {
   "cell_type": "markdown",
   "id": "5b53e4b8",
   "metadata": {},
   "source": [
    "## Importacion de librerias"
   ]
  },
  {
   "cell_type": "code",
   "execution_count": null,
   "id": "9ebacd57",
   "metadata": {},
   "outputs": [],
   "source": [
    "import numpy as np\n",
    "import pandas as pd\n",
    "import matplotlib.pyplot as plt\n",
    "import seaborn as sns\n",
    "from sklearn.preprocessing import LabelEncoder\n",
    "\n",
    "from sklearn.model_selection import train_test_split\n",
    "from sklearn.metrics import accuracy_score, precision_score, recall_score, f1_score, roc_auc_score\n",
    "from sklearn.linear_model import LogisticRegression\n",
    "from sklearn.linear_model import LogisticRegression, SGDClassifier\n",
    "from sklearn.ensemble import RandomForestClassifier, GradientBoostingClassifier\n",
    "from sklearn.preprocessing import StandardScaler\n",
    "from sklearn.tree import DecisionTreeClassifier\n",
    "from imblearn.over_sampling import SMOTE"
   ]
  },
  {
   "cell_type": "markdown",
   "id": "8b1054df",
   "metadata": {},
   "source": [
    "Se hace la lectura de la base ya lista para modelar en el proceso anterior"
   ]
  },
  {
   "cell_type": "code",
   "execution_count": 2,
   "id": "6d044f5e",
   "metadata": {},
   "outputs": [
    {
     "data": {
      "application/vnd.microsoft.datawrangler.viewer.v0+json": {
       "columns": [
        {
         "name": "index",
         "rawType": "int64",
         "type": "integer"
        },
        {
         "name": "user_id",
         "rawType": "int64",
         "type": "integer"
        },
        {
         "name": "transaction_amount",
         "rawType": "float64",
         "type": "float"
        },
        {
         "name": "time_of_transaction",
         "rawType": "float64",
         "type": "float"
        },
        {
         "name": "previous_fraudulent_transactions",
         "rawType": "int64",
         "type": "integer"
        },
        {
         "name": "account_age",
         "rawType": "int64",
         "type": "integer"
        },
        {
         "name": "number_of_transactions_last_24h",
         "rawType": "int64",
         "type": "integer"
        },
        {
         "name": "fraudulent",
         "rawType": "int64",
         "type": "integer"
        },
        {
         "name": "fraud_per_month",
         "rawType": "int64",
         "type": "integer"
        },
        {
         "name": "transaction_type_ATM Withdrawal",
         "rawType": "int64",
         "type": "integer"
        },
        {
         "name": "transaction_type_Bank Transfer",
         "rawType": "int64",
         "type": "integer"
        },
        {
         "name": "transaction_type_Bill Payment",
         "rawType": "int64",
         "type": "integer"
        },
        {
         "name": "transaction_type_Online Purchase",
         "rawType": "int64",
         "type": "integer"
        },
        {
         "name": "transaction_type_POS Payment",
         "rawType": "int64",
         "type": "integer"
        },
        {
         "name": "device_used_Desktop",
         "rawType": "int64",
         "type": "integer"
        },
        {
         "name": "device_used_Mobile",
         "rawType": "int64",
         "type": "integer"
        },
        {
         "name": "device_used_Tablet",
         "rawType": "int64",
         "type": "integer"
        },
        {
         "name": "device_used_Unknown",
         "rawType": "int64",
         "type": "integer"
        },
        {
         "name": "device_used_Unknown Device",
         "rawType": "int64",
         "type": "integer"
        },
        {
         "name": "location_Boston",
         "rawType": "int64",
         "type": "integer"
        },
        {
         "name": "location_Chicago",
         "rawType": "int64",
         "type": "integer"
        },
        {
         "name": "location_Houston",
         "rawType": "int64",
         "type": "integer"
        },
        {
         "name": "location_Los Angeles",
         "rawType": "int64",
         "type": "integer"
        },
        {
         "name": "location_Miami",
         "rawType": "int64",
         "type": "integer"
        },
        {
         "name": "location_New York",
         "rawType": "int64",
         "type": "integer"
        },
        {
         "name": "location_San Francisco",
         "rawType": "int64",
         "type": "integer"
        },
        {
         "name": "location_Seattle",
         "rawType": "int64",
         "type": "integer"
        },
        {
         "name": "location_Unknown",
         "rawType": "int64",
         "type": "integer"
        },
        {
         "name": "payment_method_Credit Card",
         "rawType": "int64",
         "type": "integer"
        },
        {
         "name": "payment_method_Debit Card",
         "rawType": "int64",
         "type": "integer"
        },
        {
         "name": "payment_method_Invalid Method",
         "rawType": "int64",
         "type": "integer"
        },
        {
         "name": "payment_method_Net Banking",
         "rawType": "int64",
         "type": "integer"
        },
        {
         "name": "payment_method_UPI",
         "rawType": "int64",
         "type": "integer"
        },
        {
         "name": "payment_method_Unknown",
         "rawType": "int64",
         "type": "integer"
        }
       ],
       "conversionMethod": "pd.DataFrame",
       "ref": "8d03a0d8-9971-447d-887e-5e85363afed2",
       "rows": [
        [
         "0",
         "4174",
         "1292.76",
         "16.0",
         "0",
         "119",
         "13",
         "0",
         "0",
         "1",
         "0",
         "0",
         "0",
         "0",
         "0",
         "0",
         "1",
         "0",
         "0",
         "0",
         "0",
         "0",
         "0",
         "0",
         "0",
         "1",
         "0",
         "0",
         "0",
         "1",
         "0",
         "0",
         "0",
         "0"
        ],
        [
         "1",
         "4507",
         "1554.58",
         "13.0",
         "4",
         "79",
         "3",
         "0",
         "20",
         "1",
         "0",
         "0",
         "0",
         "0",
         "0",
         "1",
         "0",
         "0",
         "0",
         "0",
         "0",
         "0",
         "0",
         "0",
         "1",
         "0",
         "0",
         "0",
         "1",
         "0",
         "0",
         "0",
         "0",
         "0"
        ],
        [
         "2",
         "1860",
         "2395.02",
         "11.48752023745278",
         "3",
         "115",
         "9",
         "0",
         "38",
         "1",
         "0",
         "0",
         "0",
         "0",
         "0",
         "1",
         "0",
         "0",
         "0",
         "0",
         "0",
         "0",
         "0",
         "0",
         "0",
         "0",
         "0",
         "1",
         "0",
         "0",
         "0",
         "0",
         "0",
         "1"
        ],
        [
         "3",
         "2294",
         "100.1",
         "15.0",
         "4",
         "3",
         "4",
         "0",
         "1",
         "0",
         "0",
         "1",
         "0",
         "0",
         "1",
         "0",
         "0",
         "0",
         "0",
         "0",
         "1",
         "0",
         "0",
         "0",
         "0",
         "0",
         "0",
         "0",
         "0",
         "0",
         "0",
         "0",
         "1",
         "0"
        ],
        [
         "4",
         "2130",
         "1490.5",
         "19.0",
         "2",
         "57",
         "7",
         "0",
         "28",
         "0",
         "0",
         "0",
         "0",
         "1",
         "0",
         "1",
         "0",
         "0",
         "0",
         "0",
         "0",
         "0",
         "0",
         "0",
         "0",
         "1",
         "0",
         "0",
         "1",
         "0",
         "0",
         "0",
         "0",
         "0"
        ]
       ],
       "shape": {
        "columns": 33,
        "rows": 5
       }
      },
      "text/html": [
       "<div>\n",
       "<style scoped>\n",
       "    .dataframe tbody tr th:only-of-type {\n",
       "        vertical-align: middle;\n",
       "    }\n",
       "\n",
       "    .dataframe tbody tr th {\n",
       "        vertical-align: top;\n",
       "    }\n",
       "\n",
       "    .dataframe thead th {\n",
       "        text-align: right;\n",
       "    }\n",
       "</style>\n",
       "<table border=\"1\" class=\"dataframe\">\n",
       "  <thead>\n",
       "    <tr style=\"text-align: right;\">\n",
       "      <th></th>\n",
       "      <th>user_id</th>\n",
       "      <th>transaction_amount</th>\n",
       "      <th>time_of_transaction</th>\n",
       "      <th>previous_fraudulent_transactions</th>\n",
       "      <th>account_age</th>\n",
       "      <th>number_of_transactions_last_24h</th>\n",
       "      <th>fraudulent</th>\n",
       "      <th>fraud_per_month</th>\n",
       "      <th>transaction_type_ATM Withdrawal</th>\n",
       "      <th>transaction_type_Bank Transfer</th>\n",
       "      <th>...</th>\n",
       "      <th>location_New York</th>\n",
       "      <th>location_San Francisco</th>\n",
       "      <th>location_Seattle</th>\n",
       "      <th>location_Unknown</th>\n",
       "      <th>payment_method_Credit Card</th>\n",
       "      <th>payment_method_Debit Card</th>\n",
       "      <th>payment_method_Invalid Method</th>\n",
       "      <th>payment_method_Net Banking</th>\n",
       "      <th>payment_method_UPI</th>\n",
       "      <th>payment_method_Unknown</th>\n",
       "    </tr>\n",
       "  </thead>\n",
       "  <tbody>\n",
       "    <tr>\n",
       "      <th>0</th>\n",
       "      <td>4174</td>\n",
       "      <td>1292.76</td>\n",
       "      <td>16.00000</td>\n",
       "      <td>0</td>\n",
       "      <td>119</td>\n",
       "      <td>13</td>\n",
       "      <td>0</td>\n",
       "      <td>0</td>\n",
       "      <td>1</td>\n",
       "      <td>0</td>\n",
       "      <td>...</td>\n",
       "      <td>0</td>\n",
       "      <td>1</td>\n",
       "      <td>0</td>\n",
       "      <td>0</td>\n",
       "      <td>0</td>\n",
       "      <td>1</td>\n",
       "      <td>0</td>\n",
       "      <td>0</td>\n",
       "      <td>0</td>\n",
       "      <td>0</td>\n",
       "    </tr>\n",
       "    <tr>\n",
       "      <th>1</th>\n",
       "      <td>4507</td>\n",
       "      <td>1554.58</td>\n",
       "      <td>13.00000</td>\n",
       "      <td>4</td>\n",
       "      <td>79</td>\n",
       "      <td>3</td>\n",
       "      <td>0</td>\n",
       "      <td>20</td>\n",
       "      <td>1</td>\n",
       "      <td>0</td>\n",
       "      <td>...</td>\n",
       "      <td>1</td>\n",
       "      <td>0</td>\n",
       "      <td>0</td>\n",
       "      <td>0</td>\n",
       "      <td>1</td>\n",
       "      <td>0</td>\n",
       "      <td>0</td>\n",
       "      <td>0</td>\n",
       "      <td>0</td>\n",
       "      <td>0</td>\n",
       "    </tr>\n",
       "    <tr>\n",
       "      <th>2</th>\n",
       "      <td>1860</td>\n",
       "      <td>2395.02</td>\n",
       "      <td>11.48752</td>\n",
       "      <td>3</td>\n",
       "      <td>115</td>\n",
       "      <td>9</td>\n",
       "      <td>0</td>\n",
       "      <td>38</td>\n",
       "      <td>1</td>\n",
       "      <td>0</td>\n",
       "      <td>...</td>\n",
       "      <td>0</td>\n",
       "      <td>0</td>\n",
       "      <td>0</td>\n",
       "      <td>1</td>\n",
       "      <td>0</td>\n",
       "      <td>0</td>\n",
       "      <td>0</td>\n",
       "      <td>0</td>\n",
       "      <td>0</td>\n",
       "      <td>1</td>\n",
       "    </tr>\n",
       "    <tr>\n",
       "      <th>3</th>\n",
       "      <td>2294</td>\n",
       "      <td>100.10</td>\n",
       "      <td>15.00000</td>\n",
       "      <td>4</td>\n",
       "      <td>3</td>\n",
       "      <td>4</td>\n",
       "      <td>0</td>\n",
       "      <td>1</td>\n",
       "      <td>0</td>\n",
       "      <td>0</td>\n",
       "      <td>...</td>\n",
       "      <td>0</td>\n",
       "      <td>0</td>\n",
       "      <td>0</td>\n",
       "      <td>0</td>\n",
       "      <td>0</td>\n",
       "      <td>0</td>\n",
       "      <td>0</td>\n",
       "      <td>0</td>\n",
       "      <td>1</td>\n",
       "      <td>0</td>\n",
       "    </tr>\n",
       "    <tr>\n",
       "      <th>4</th>\n",
       "      <td>2130</td>\n",
       "      <td>1490.50</td>\n",
       "      <td>19.00000</td>\n",
       "      <td>2</td>\n",
       "      <td>57</td>\n",
       "      <td>7</td>\n",
       "      <td>0</td>\n",
       "      <td>28</td>\n",
       "      <td>0</td>\n",
       "      <td>0</td>\n",
       "      <td>...</td>\n",
       "      <td>0</td>\n",
       "      <td>1</td>\n",
       "      <td>0</td>\n",
       "      <td>0</td>\n",
       "      <td>1</td>\n",
       "      <td>0</td>\n",
       "      <td>0</td>\n",
       "      <td>0</td>\n",
       "      <td>0</td>\n",
       "      <td>0</td>\n",
       "    </tr>\n",
       "  </tbody>\n",
       "</table>\n",
       "<p>5 rows × 33 columns</p>\n",
       "</div>"
      ],
      "text/plain": [
       "   user_id  transaction_amount  time_of_transaction  \\\n",
       "0     4174             1292.76             16.00000   \n",
       "1     4507             1554.58             13.00000   \n",
       "2     1860             2395.02             11.48752   \n",
       "3     2294              100.10             15.00000   \n",
       "4     2130             1490.50             19.00000   \n",
       "\n",
       "   previous_fraudulent_transactions  account_age  \\\n",
       "0                                 0          119   \n",
       "1                                 4           79   \n",
       "2                                 3          115   \n",
       "3                                 4            3   \n",
       "4                                 2           57   \n",
       "\n",
       "   number_of_transactions_last_24h  fraudulent  fraud_per_month  \\\n",
       "0                               13           0                0   \n",
       "1                                3           0               20   \n",
       "2                                9           0               38   \n",
       "3                                4           0                1   \n",
       "4                                7           0               28   \n",
       "\n",
       "   transaction_type_ATM Withdrawal  transaction_type_Bank Transfer  ...  \\\n",
       "0                                1                               0  ...   \n",
       "1                                1                               0  ...   \n",
       "2                                1                               0  ...   \n",
       "3                                0                               0  ...   \n",
       "4                                0                               0  ...   \n",
       "\n",
       "   location_New York  location_San Francisco  location_Seattle  \\\n",
       "0                  0                       1                 0   \n",
       "1                  1                       0                 0   \n",
       "2                  0                       0                 0   \n",
       "3                  0                       0                 0   \n",
       "4                  0                       1                 0   \n",
       "\n",
       "   location_Unknown  payment_method_Credit Card  payment_method_Debit Card  \\\n",
       "0                 0                           0                          1   \n",
       "1                 0                           1                          0   \n",
       "2                 1                           0                          0   \n",
       "3                 0                           0                          0   \n",
       "4                 0                           1                          0   \n",
       "\n",
       "   payment_method_Invalid Method  payment_method_Net Banking  \\\n",
       "0                              0                           0   \n",
       "1                              0                           0   \n",
       "2                              0                           0   \n",
       "3                              0                           0   \n",
       "4                              0                           0   \n",
       "\n",
       "   payment_method_UPI  payment_method_Unknown  \n",
       "0                   0                       0  \n",
       "1                   0                       0  \n",
       "2                   0                       1  \n",
       "3                   1                       0  \n",
       "4                   0                       0  \n",
       "\n",
       "[5 rows x 33 columns]"
      ]
     },
     "execution_count": 2,
     "metadata": {},
     "output_type": "execute_result"
    }
   ],
   "source": [
    "ml_data = pd.read_csv('D:\\Proyecto 2\\Data\\Processed\\ml_dataset.csv')\n",
    "ml_data.head()"
   ]
  },
  {
   "cell_type": "code",
   "execution_count": 3,
   "id": "90a49c84",
   "metadata": {},
   "outputs": [
    {
     "name": "stdout",
     "output_type": "stream",
     "text": [
      "<class 'pandas.core.frame.DataFrame'>\n",
      "RangeIndex: 51000 entries, 0 to 50999\n",
      "Data columns (total 33 columns):\n",
      " #   Column                            Non-Null Count  Dtype  \n",
      "---  ------                            --------------  -----  \n",
      " 0   user_id                           51000 non-null  int64  \n",
      " 1   transaction_amount                51000 non-null  float64\n",
      " 2   time_of_transaction               51000 non-null  float64\n",
      " 3   previous_fraudulent_transactions  51000 non-null  int64  \n",
      " 4   account_age                       51000 non-null  int64  \n",
      " 5   number_of_transactions_last_24h   51000 non-null  int64  \n",
      " 6   fraudulent                        51000 non-null  int64  \n",
      " 7   fraud_per_month                   51000 non-null  int64  \n",
      " 8   transaction_type_ATM Withdrawal   51000 non-null  int64  \n",
      " 9   transaction_type_Bank Transfer    51000 non-null  int64  \n",
      " 10  transaction_type_Bill Payment     51000 non-null  int64  \n",
      " 11  transaction_type_Online Purchase  51000 non-null  int64  \n",
      " 12  transaction_type_POS Payment      51000 non-null  int64  \n",
      " 13  device_used_Desktop               51000 non-null  int64  \n",
      " 14  device_used_Mobile                51000 non-null  int64  \n",
      " 15  device_used_Tablet                51000 non-null  int64  \n",
      " 16  device_used_Unknown               51000 non-null  int64  \n",
      " 17  device_used_Unknown Device        51000 non-null  int64  \n",
      " 18  location_Boston                   51000 non-null  int64  \n",
      " 19  location_Chicago                  51000 non-null  int64  \n",
      " 20  location_Houston                  51000 non-null  int64  \n",
      " 21  location_Los Angeles              51000 non-null  int64  \n",
      " 22  location_Miami                    51000 non-null  int64  \n",
      " 23  location_New York                 51000 non-null  int64  \n",
      " 24  location_San Francisco            51000 non-null  int64  \n",
      " 25  location_Seattle                  51000 non-null  int64  \n",
      " 26  location_Unknown                  51000 non-null  int64  \n",
      " 27  payment_method_Credit Card        51000 non-null  int64  \n",
      " 28  payment_method_Debit Card         51000 non-null  int64  \n",
      " 29  payment_method_Invalid Method     51000 non-null  int64  \n",
      " 30  payment_method_Net Banking        51000 non-null  int64  \n",
      " 31  payment_method_UPI                51000 non-null  int64  \n",
      " 32  payment_method_Unknown            51000 non-null  int64  \n",
      "dtypes: float64(2), int64(31)\n",
      "memory usage: 12.8 MB\n"
     ]
    }
   ],
   "source": [
    "ml_data.info()"
   ]
  },
  {
   "cell_type": "code",
   "execution_count": 4,
   "id": "4d2c1fc3",
   "metadata": {},
   "outputs": [
    {
     "data": {
      "text/plain": [
       "0    48490\n",
       "1     2510\n",
       "Name: fraudulent, dtype: int64"
      ]
     },
     "execution_count": 4,
     "metadata": {},
     "output_type": "execute_result"
    }
   ],
   "source": [
    "ml_data['fraudulent'].value_counts()"
   ]
  },
  {
   "cell_type": "markdown",
   "id": "42c2aeb2",
   "metadata": {},
   "source": [
    "Debido a la desbalance de clases, se utilizara el algoritmo SMOTE para balancear las clases."
   ]
  },
  {
   "cell_type": "code",
   "execution_count": 5,
   "id": "f03d1753",
   "metadata": {},
   "outputs": [],
   "source": [
    "scaler = StandardScaler()\n",
    "smote = SMOTE(random_state=42)\n",
    "X_train_resampled, y_train_resampled = smote.fit_resample(ml_data.drop(['fraudulent'], axis=1), ml_data['fraudulent'])\n",
    "X_scaled = scaler.fit_transform(X_train_resampled)"
   ]
  },
  {
   "cell_type": "markdown",
   "id": "9b1fd733",
   "metadata": {},
   "source": [
    "Se hace el particionamiento de datos"
   ]
  },
  {
   "cell_type": "code",
   "execution_count": 6,
   "id": "01cfafef",
   "metadata": {},
   "outputs": [],
   "source": [
    "X_entrenamiento_caracteristica, X_prueba_caracteristica, Y_entrenamiento_objetivo, Y_prueba_objetivo = train_test_split(X_scaled, y_train_resampled, random_state=55, stratify=y_train_resampled, test_size=0.2)"
   ]
  },
  {
   "cell_type": "markdown",
   "id": "95fbcfe1",
   "metadata": {},
   "source": [
    "### Comenzar modelado con diferentes opciones"
   ]
  },
  {
   "cell_type": "code",
   "execution_count": 7,
   "id": "38692a36",
   "metadata": {},
   "outputs": [],
   "source": [
    "reg_log = LogisticRegression(C=1.0, solver=\"liblinear\", max_iter=500, class_weight=\"balanced\", random_state=4525)"
   ]
  },
  {
   "cell_type": "code",
   "execution_count": 8,
   "id": "91c46d1a",
   "metadata": {},
   "outputs": [
    {
     "data": {
      "text/html": [
       "<style>#sk-container-id-1 {color: black;background-color: white;}#sk-container-id-1 pre{padding: 0;}#sk-container-id-1 div.sk-toggleable {background-color: white;}#sk-container-id-1 label.sk-toggleable__label {cursor: pointer;display: block;width: 100%;margin-bottom: 0;padding: 0.3em;box-sizing: border-box;text-align: center;}#sk-container-id-1 label.sk-toggleable__label-arrow:before {content: \"▸\";float: left;margin-right: 0.25em;color: #696969;}#sk-container-id-1 label.sk-toggleable__label-arrow:hover:before {color: black;}#sk-container-id-1 div.sk-estimator:hover label.sk-toggleable__label-arrow:before {color: black;}#sk-container-id-1 div.sk-toggleable__content {max-height: 0;max-width: 0;overflow: hidden;text-align: left;background-color: #f0f8ff;}#sk-container-id-1 div.sk-toggleable__content pre {margin: 0.2em;color: black;border-radius: 0.25em;background-color: #f0f8ff;}#sk-container-id-1 input.sk-toggleable__control:checked~div.sk-toggleable__content {max-height: 200px;max-width: 100%;overflow: auto;}#sk-container-id-1 input.sk-toggleable__control:checked~label.sk-toggleable__label-arrow:before {content: \"▾\";}#sk-container-id-1 div.sk-estimator input.sk-toggleable__control:checked~label.sk-toggleable__label {background-color: #d4ebff;}#sk-container-id-1 div.sk-label input.sk-toggleable__control:checked~label.sk-toggleable__label {background-color: #d4ebff;}#sk-container-id-1 input.sk-hidden--visually {border: 0;clip: rect(1px 1px 1px 1px);clip: rect(1px, 1px, 1px, 1px);height: 1px;margin: -1px;overflow: hidden;padding: 0;position: absolute;width: 1px;}#sk-container-id-1 div.sk-estimator {font-family: monospace;background-color: #f0f8ff;border: 1px dotted black;border-radius: 0.25em;box-sizing: border-box;margin-bottom: 0.5em;}#sk-container-id-1 div.sk-estimator:hover {background-color: #d4ebff;}#sk-container-id-1 div.sk-parallel-item::after {content: \"\";width: 100%;border-bottom: 1px solid gray;flex-grow: 1;}#sk-container-id-1 div.sk-label:hover label.sk-toggleable__label {background-color: #d4ebff;}#sk-container-id-1 div.sk-serial::before {content: \"\";position: absolute;border-left: 1px solid gray;box-sizing: border-box;top: 0;bottom: 0;left: 50%;z-index: 0;}#sk-container-id-1 div.sk-serial {display: flex;flex-direction: column;align-items: center;background-color: white;padding-right: 0.2em;padding-left: 0.2em;position: relative;}#sk-container-id-1 div.sk-item {position: relative;z-index: 1;}#sk-container-id-1 div.sk-parallel {display: flex;align-items: stretch;justify-content: center;background-color: white;position: relative;}#sk-container-id-1 div.sk-item::before, #sk-container-id-1 div.sk-parallel-item::before {content: \"\";position: absolute;border-left: 1px solid gray;box-sizing: border-box;top: 0;bottom: 0;left: 50%;z-index: -1;}#sk-container-id-1 div.sk-parallel-item {display: flex;flex-direction: column;z-index: 1;position: relative;background-color: white;}#sk-container-id-1 div.sk-parallel-item:first-child::after {align-self: flex-end;width: 50%;}#sk-container-id-1 div.sk-parallel-item:last-child::after {align-self: flex-start;width: 50%;}#sk-container-id-1 div.sk-parallel-item:only-child::after {width: 0;}#sk-container-id-1 div.sk-dashed-wrapped {border: 1px dashed gray;margin: 0 0.4em 0.5em 0.4em;box-sizing: border-box;padding-bottom: 0.4em;background-color: white;}#sk-container-id-1 div.sk-label label {font-family: monospace;font-weight: bold;display: inline-block;line-height: 1.2em;}#sk-container-id-1 div.sk-label-container {text-align: center;}#sk-container-id-1 div.sk-container {/* jupyter's `normalize.less` sets `[hidden] { display: none; }` but bootstrap.min.css set `[hidden] { display: none !important; }` so we also need the `!important` here to be able to override the default hidden behavior on the sphinx rendered scikit-learn.org. See: https://github.com/scikit-learn/scikit-learn/issues/21755 */display: inline-block !important;position: relative;}#sk-container-id-1 div.sk-text-repr-fallback {display: none;}</style><div id=\"sk-container-id-1\" class=\"sk-top-container\"><div class=\"sk-text-repr-fallback\"><pre>LogisticRegression(class_weight=&#x27;balanced&#x27;, max_iter=500, random_state=4525,\n",
       "                   solver=&#x27;liblinear&#x27;)</pre><b>In a Jupyter environment, please rerun this cell to show the HTML representation or trust the notebook. <br />On GitHub, the HTML representation is unable to render, please try loading this page with nbviewer.org.</b></div><div class=\"sk-container\" hidden><div class=\"sk-item\"><div class=\"sk-estimator sk-toggleable\"><input class=\"sk-toggleable__control sk-hidden--visually\" id=\"sk-estimator-id-1\" type=\"checkbox\" checked><label for=\"sk-estimator-id-1\" class=\"sk-toggleable__label sk-toggleable__label-arrow\">LogisticRegression</label><div class=\"sk-toggleable__content\"><pre>LogisticRegression(class_weight=&#x27;balanced&#x27;, max_iter=500, random_state=4525,\n",
       "                   solver=&#x27;liblinear&#x27;)</pre></div></div></div></div></div>"
      ],
      "text/plain": [
       "LogisticRegression(class_weight='balanced', max_iter=500, random_state=4525,\n",
       "                   solver='liblinear')"
      ]
     },
     "execution_count": 8,
     "metadata": {},
     "output_type": "execute_result"
    }
   ],
   "source": [
    "reg_log.fit(X_train_resampled, y_train_resampled)"
   ]
  },
  {
   "cell_type": "code",
   "execution_count": 9,
   "id": "92a2db6b",
   "metadata": {},
   "outputs": [
    {
     "name": "stderr",
     "output_type": "stream",
     "text": [
      "d:\\Anaconda\\lib\\site-packages\\sklearn\\base.py:420: UserWarning: X does not have valid feature names, but LogisticRegression was fitted with feature names\n",
      "  warnings.warn(\n"
     ]
    }
   ],
   "source": [
    "Y_pred = reg_log.predict(X_prueba_caracteristica)\n"
   ]
  },
  {
   "cell_type": "code",
   "execution_count": 10,
   "id": "ba461c1b",
   "metadata": {},
   "outputs": [
    {
     "name": "stdout",
     "output_type": "stream",
     "text": [
      "Accuracy: 0.9704\n",
      "Precisión: 1.0000\n",
      "Recall: 0.9407\n",
      "F1-score: 0.9694\n",
      "AUC-ROC: 0.9704\n"
     ]
    }
   ],
   "source": [
    "accuracy_rl = accuracy_score(Y_prueba_objetivo, Y_pred)\n",
    "precision_rl = precision_score(Y_prueba_objetivo, Y_pred, zero_division=0)\n",
    "recall_rl = recall_score(Y_prueba_objetivo, Y_pred)\n",
    "f1_rl = f1_score(Y_prueba_objetivo, Y_pred)\n",
    "auc_roc_rl = roc_auc_score(Y_prueba_objetivo, Y_pred)\n",
    "\n",
    "# Mostrar las métricas\n",
    "print(f\"Accuracy: {accuracy_rl:.4f}\")\n",
    "print(f\"Precisión: {precision_rl:.4f}\")\n",
    "print(f\"Recall: {recall_rl:.4f}\")\n",
    "print(f\"F1-score: {f1_rl:.4f}\")\n",
    "print(f\"AUC-ROC: {auc_roc_rl:.4f}\")"
   ]
  },
  {
   "cell_type": "code",
   "execution_count": 11,
   "id": "70a4a866",
   "metadata": {},
   "outputs": [
    {
     "data": {
      "application/vnd.microsoft.datawrangler.viewer.v0+json": {
       "columns": [
        {
         "name": "index",
         "rawType": "int64",
         "type": "integer"
        },
        {
         "name": "Modelo",
         "rawType": "object",
         "type": "string"
        },
        {
         "name": "Accuracy",
         "rawType": "float64",
         "type": "float"
        },
        {
         "name": "Precisión",
         "rawType": "float64",
         "type": "float"
        },
        {
         "name": "Recall",
         "rawType": "float64",
         "type": "float"
        },
        {
         "name": "F1-score",
         "rawType": "float64",
         "type": "float"
        },
        {
         "name": "AUC-ROC",
         "rawType": "float64",
         "type": "float"
        }
       ],
       "conversionMethod": "pd.DataFrame",
       "ref": "ac5d12ff-3c39-4b67-9c1c-e978c76859b0",
       "rows": [
        [
         "0",
         "Regresión Logística",
         "0.9703547123118169",
         "1.0",
         "0.9407094246236337",
         "0.9694490197120238",
         "0.9703547123118168"
        ]
       ],
       "shape": {
        "columns": 6,
        "rows": 1
       }
      },
      "text/html": [
       "<div>\n",
       "<style scoped>\n",
       "    .dataframe tbody tr th:only-of-type {\n",
       "        vertical-align: middle;\n",
       "    }\n",
       "\n",
       "    .dataframe tbody tr th {\n",
       "        vertical-align: top;\n",
       "    }\n",
       "\n",
       "    .dataframe thead th {\n",
       "        text-align: right;\n",
       "    }\n",
       "</style>\n",
       "<table border=\"1\" class=\"dataframe\">\n",
       "  <thead>\n",
       "    <tr style=\"text-align: right;\">\n",
       "      <th></th>\n",
       "      <th>Modelo</th>\n",
       "      <th>Accuracy</th>\n",
       "      <th>Precisión</th>\n",
       "      <th>Recall</th>\n",
       "      <th>F1-score</th>\n",
       "      <th>AUC-ROC</th>\n",
       "    </tr>\n",
       "  </thead>\n",
       "  <tbody>\n",
       "    <tr>\n",
       "      <th>0</th>\n",
       "      <td>Regresión Logística</td>\n",
       "      <td>0.970355</td>\n",
       "      <td>1.0</td>\n",
       "      <td>0.940709</td>\n",
       "      <td>0.969449</td>\n",
       "      <td>0.970355</td>\n",
       "    </tr>\n",
       "  </tbody>\n",
       "</table>\n",
       "</div>"
      ],
      "text/plain": [
       "                Modelo  Accuracy  Precisión    Recall  F1-score   AUC-ROC\n",
       "0  Regresión Logística  0.970355        1.0  0.940709  0.969449  0.970355"
      ]
     },
     "execution_count": 11,
     "metadata": {},
     "output_type": "execute_result"
    }
   ],
   "source": [
    "resultados_lr = []\n",
    "resultados_lr.append({\n",
    "    'Modelo': 'Regresión Logística',\n",
    "    'Accuracy': accuracy_rl,\n",
    "    'Precisión': precision_rl,\n",
    "    'Recall': recall_rl,\n",
    "    'F1-score': f1_rl,\n",
    "    'AUC-ROC': auc_roc_rl\n",
    "})\n",
    "df_rl = pd.DataFrame(resultados_lr)\n",
    "df_rl"
   ]
  },
  {
   "cell_type": "code",
   "execution_count": 12,
   "id": "18fd6af7",
   "metadata": {},
   "outputs": [
    {
     "name": "stderr",
     "output_type": "stream",
     "text": [
      "d:\\Anaconda\\lib\\site-packages\\sklearn\\base.py:420: UserWarning: X does not have valid feature names, but DecisionTreeClassifier was fitted with feature names\n",
      "  warnings.warn(\n",
      "d:\\Anaconda\\lib\\site-packages\\sklearn\\base.py:420: UserWarning: X does not have valid feature names, but DecisionTreeClassifier was fitted with feature names\n",
      "  warnings.warn(\n"
     ]
    },
    {
     "name": "stdout",
     "output_type": "stream",
     "text": [
      "Profundidad: 1, Split: 2, Accuracy: 0.6066, Precisión: 0.5666, Recall: 0.9065, F1-score: 0.6973, AUC-ROC: 0.6066\n",
      "Profundidad: 1, Split: 5, Accuracy: 0.6066, Precisión: 0.5666, Recall: 0.9065, F1-score: 0.6973, AUC-ROC: 0.6066\n"
     ]
    },
    {
     "name": "stderr",
     "output_type": "stream",
     "text": [
      "d:\\Anaconda\\lib\\site-packages\\sklearn\\base.py:420: UserWarning: X does not have valid feature names, but DecisionTreeClassifier was fitted with feature names\n",
      "  warnings.warn(\n"
     ]
    },
    {
     "name": "stdout",
     "output_type": "stream",
     "text": [
      "Profundidad: 1, Split: 10, Accuracy: 0.6066, Precisión: 0.5666, Recall: 0.9065, F1-score: 0.6973, AUC-ROC: 0.6066\n"
     ]
    },
    {
     "name": "stderr",
     "output_type": "stream",
     "text": [
      "d:\\Anaconda\\lib\\site-packages\\sklearn\\base.py:420: UserWarning: X does not have valid feature names, but DecisionTreeClassifier was fitted with feature names\n",
      "  warnings.warn(\n",
      "d:\\Anaconda\\lib\\site-packages\\sklearn\\base.py:420: UserWarning: X does not have valid feature names, but DecisionTreeClassifier was fitted with feature names\n",
      "  warnings.warn(\n"
     ]
    },
    {
     "name": "stdout",
     "output_type": "stream",
     "text": [
      "Profundidad: 2, Split: 2, Accuracy: 0.7118, Precisión: 0.6769, Recall: 0.8103, F1-score: 0.7376, AUC-ROC: 0.7118\n",
      "Profundidad: 2, Split: 5, Accuracy: 0.7118, Precisión: 0.6769, Recall: 0.8103, F1-score: 0.7376, AUC-ROC: 0.7118\n"
     ]
    },
    {
     "name": "stderr",
     "output_type": "stream",
     "text": [
      "d:\\Anaconda\\lib\\site-packages\\sklearn\\base.py:420: UserWarning: X does not have valid feature names, but DecisionTreeClassifier was fitted with feature names\n",
      "  warnings.warn(\n"
     ]
    },
    {
     "name": "stdout",
     "output_type": "stream",
     "text": [
      "Profundidad: 2, Split: 10, Accuracy: 0.7118, Precisión: 0.6769, Recall: 0.8103, F1-score: 0.7376, AUC-ROC: 0.7118\n"
     ]
    },
    {
     "name": "stderr",
     "output_type": "stream",
     "text": [
      "d:\\Anaconda\\lib\\site-packages\\sklearn\\base.py:420: UserWarning: X does not have valid feature names, but DecisionTreeClassifier was fitted with feature names\n",
      "  warnings.warn(\n"
     ]
    },
    {
     "name": "stdout",
     "output_type": "stream",
     "text": [
      "Profundidad: 3, Split: 2, Accuracy: 0.8049, Precisión: 0.8944, Recall: 0.6915, F1-score: 0.7799, AUC-ROC: 0.8049\n"
     ]
    },
    {
     "name": "stderr",
     "output_type": "stream",
     "text": [
      "d:\\Anaconda\\lib\\site-packages\\sklearn\\base.py:420: UserWarning: X does not have valid feature names, but DecisionTreeClassifier was fitted with feature names\n",
      "  warnings.warn(\n"
     ]
    },
    {
     "name": "stdout",
     "output_type": "stream",
     "text": [
      "Profundidad: 3, Split: 5, Accuracy: 0.8049, Precisión: 0.8944, Recall: 0.6915, F1-score: 0.7799, AUC-ROC: 0.8049\n"
     ]
    },
    {
     "name": "stderr",
     "output_type": "stream",
     "text": [
      "d:\\Anaconda\\lib\\site-packages\\sklearn\\base.py:420: UserWarning: X does not have valid feature names, but DecisionTreeClassifier was fitted with feature names\n",
      "  warnings.warn(\n"
     ]
    },
    {
     "name": "stdout",
     "output_type": "stream",
     "text": [
      "Profundidad: 3, Split: 10, Accuracy: 0.8049, Precisión: 0.8944, Recall: 0.6915, F1-score: 0.7799, AUC-ROC: 0.8049\n"
     ]
    },
    {
     "name": "stderr",
     "output_type": "stream",
     "text": [
      "d:\\Anaconda\\lib\\site-packages\\sklearn\\base.py:420: UserWarning: X does not have valid feature names, but DecisionTreeClassifier was fitted with feature names\n",
      "  warnings.warn(\n"
     ]
    },
    {
     "name": "stdout",
     "output_type": "stream",
     "text": [
      "Profundidad: 4, Split: 2, Accuracy: 0.7946, Precisión: 0.8717, Recall: 0.6909, F1-score: 0.7708, AUC-ROC: 0.7946\n"
     ]
    },
    {
     "name": "stderr",
     "output_type": "stream",
     "text": [
      "d:\\Anaconda\\lib\\site-packages\\sklearn\\base.py:420: UserWarning: X does not have valid feature names, but DecisionTreeClassifier was fitted with feature names\n",
      "  warnings.warn(\n"
     ]
    },
    {
     "name": "stdout",
     "output_type": "stream",
     "text": [
      "Profundidad: 4, Split: 5, Accuracy: 0.7946, Precisión: 0.8717, Recall: 0.6909, F1-score: 0.7708, AUC-ROC: 0.7946\n"
     ]
    },
    {
     "name": "stderr",
     "output_type": "stream",
     "text": [
      "d:\\Anaconda\\lib\\site-packages\\sklearn\\base.py:420: UserWarning: X does not have valid feature names, but DecisionTreeClassifier was fitted with feature names\n",
      "  warnings.warn(\n"
     ]
    },
    {
     "name": "stdout",
     "output_type": "stream",
     "text": [
      "Profundidad: 4, Split: 10, Accuracy: 0.7946, Precisión: 0.8717, Recall: 0.6909, F1-score: 0.7708, AUC-ROC: 0.7946\n"
     ]
    },
    {
     "name": "stderr",
     "output_type": "stream",
     "text": [
      "d:\\Anaconda\\lib\\site-packages\\sklearn\\base.py:420: UserWarning: X does not have valid feature names, but DecisionTreeClassifier was fitted with feature names\n",
      "  warnings.warn(\n"
     ]
    },
    {
     "name": "stdout",
     "output_type": "stream",
     "text": [
      "Profundidad: 5, Split: 2, Accuracy: 0.8446, Precisión: 0.9233, Recall: 0.7515, F1-score: 0.8286, AUC-ROC: 0.8446\n"
     ]
    },
    {
     "name": "stderr",
     "output_type": "stream",
     "text": [
      "d:\\Anaconda\\lib\\site-packages\\sklearn\\base.py:420: UserWarning: X does not have valid feature names, but DecisionTreeClassifier was fitted with feature names\n",
      "  warnings.warn(\n"
     ]
    },
    {
     "name": "stdout",
     "output_type": "stream",
     "text": [
      "Profundidad: 5, Split: 5, Accuracy: 0.8446, Precisión: 0.9233, Recall: 0.7515, F1-score: 0.8286, AUC-ROC: 0.8446\n"
     ]
    },
    {
     "name": "stderr",
     "output_type": "stream",
     "text": [
      "d:\\Anaconda\\lib\\site-packages\\sklearn\\base.py:420: UserWarning: X does not have valid feature names, but DecisionTreeClassifier was fitted with feature names\n",
      "  warnings.warn(\n"
     ]
    },
    {
     "name": "stdout",
     "output_type": "stream",
     "text": [
      "Profundidad: 5, Split: 10, Accuracy: 0.8446, Precisión: 0.9233, Recall: 0.7515, F1-score: 0.8286, AUC-ROC: 0.8446\n"
     ]
    },
    {
     "name": "stderr",
     "output_type": "stream",
     "text": [
      "d:\\Anaconda\\lib\\site-packages\\sklearn\\base.py:420: UserWarning: X does not have valid feature names, but DecisionTreeClassifier was fitted with feature names\n",
      "  warnings.warn(\n"
     ]
    },
    {
     "name": "stdout",
     "output_type": "stream",
     "text": [
      "Profundidad: 6, Split: 2, Accuracy: 0.8910, Precisión: 0.9695, Recall: 0.8074, F1-score: 0.8811, AUC-ROC: 0.8910\n"
     ]
    },
    {
     "name": "stderr",
     "output_type": "stream",
     "text": [
      "d:\\Anaconda\\lib\\site-packages\\sklearn\\base.py:420: UserWarning: X does not have valid feature names, but DecisionTreeClassifier was fitted with feature names\n",
      "  warnings.warn(\n"
     ]
    },
    {
     "name": "stdout",
     "output_type": "stream",
     "text": [
      "Profundidad: 6, Split: 5, Accuracy: 0.8910, Precisión: 0.9695, Recall: 0.8074, F1-score: 0.8811, AUC-ROC: 0.8910\n"
     ]
    },
    {
     "name": "stderr",
     "output_type": "stream",
     "text": [
      "d:\\Anaconda\\lib\\site-packages\\sklearn\\base.py:420: UserWarning: X does not have valid feature names, but DecisionTreeClassifier was fitted with feature names\n",
      "  warnings.warn(\n"
     ]
    },
    {
     "name": "stdout",
     "output_type": "stream",
     "text": [
      "Profundidad: 6, Split: 10, Accuracy: 0.8910, Precisión: 0.9695, Recall: 0.8074, F1-score: 0.8811, AUC-ROC: 0.8910\n"
     ]
    },
    {
     "name": "stderr",
     "output_type": "stream",
     "text": [
      "d:\\Anaconda\\lib\\site-packages\\sklearn\\base.py:420: UserWarning: X does not have valid feature names, but DecisionTreeClassifier was fitted with feature names\n",
      "  warnings.warn(\n"
     ]
    },
    {
     "name": "stdout",
     "output_type": "stream",
     "text": [
      "Profundidad: 7, Split: 2, Accuracy: 0.9244, Precisión: 0.9611, Recall: 0.8845, F1-score: 0.9212, AUC-ROC: 0.9244\n"
     ]
    },
    {
     "name": "stderr",
     "output_type": "stream",
     "text": [
      "d:\\Anaconda\\lib\\site-packages\\sklearn\\base.py:420: UserWarning: X does not have valid feature names, but DecisionTreeClassifier was fitted with feature names\n",
      "  warnings.warn(\n"
     ]
    },
    {
     "name": "stdout",
     "output_type": "stream",
     "text": [
      "Profundidad: 7, Split: 5, Accuracy: 0.9244, Precisión: 0.9611, Recall: 0.8845, F1-score: 0.9212, AUC-ROC: 0.9244\n"
     ]
    },
    {
     "name": "stderr",
     "output_type": "stream",
     "text": [
      "d:\\Anaconda\\lib\\site-packages\\sklearn\\base.py:420: UserWarning: X does not have valid feature names, but DecisionTreeClassifier was fitted with feature names\n",
      "  warnings.warn(\n"
     ]
    },
    {
     "name": "stdout",
     "output_type": "stream",
     "text": [
      "Profundidad: 7, Split: 10, Accuracy: 0.9244, Precisión: 0.9611, Recall: 0.8845, F1-score: 0.9212, AUC-ROC: 0.9244\n"
     ]
    },
    {
     "name": "stderr",
     "output_type": "stream",
     "text": [
      "d:\\Anaconda\\lib\\site-packages\\sklearn\\base.py:420: UserWarning: X does not have valid feature names, but DecisionTreeClassifier was fitted with feature names\n",
      "  warnings.warn(\n"
     ]
    },
    {
     "name": "stdout",
     "output_type": "stream",
     "text": [
      "Profundidad: 8, Split: 2, Accuracy: 0.8381, Precisión: 0.7972, Recall: 0.9068, F1-score: 0.8485, AUC-ROC: 0.8381\n"
     ]
    },
    {
     "name": "stderr",
     "output_type": "stream",
     "text": [
      "d:\\Anaconda\\lib\\site-packages\\sklearn\\base.py:420: UserWarning: X does not have valid feature names, but DecisionTreeClassifier was fitted with feature names\n",
      "  warnings.warn(\n"
     ]
    },
    {
     "name": "stdout",
     "output_type": "stream",
     "text": [
      "Profundidad: 8, Split: 5, Accuracy: 0.8444, Precisión: 0.8065, Recall: 0.9063, F1-score: 0.8535, AUC-ROC: 0.8444\n"
     ]
    },
    {
     "name": "stderr",
     "output_type": "stream",
     "text": [
      "d:\\Anaconda\\lib\\site-packages\\sklearn\\base.py:420: UserWarning: X does not have valid feature names, but DecisionTreeClassifier was fitted with feature names\n",
      "  warnings.warn(\n"
     ]
    },
    {
     "name": "stdout",
     "output_type": "stream",
     "text": [
      "Profundidad: 8, Split: 10, Accuracy: 0.8444, Precisión: 0.8065, Recall: 0.9063, F1-score: 0.8535, AUC-ROC: 0.8444\n"
     ]
    },
    {
     "name": "stderr",
     "output_type": "stream",
     "text": [
      "d:\\Anaconda\\lib\\site-packages\\sklearn\\base.py:420: UserWarning: X does not have valid feature names, but DecisionTreeClassifier was fitted with feature names\n",
      "  warnings.warn(\n"
     ]
    },
    {
     "name": "stdout",
     "output_type": "stream",
     "text": [
      "Profundidad: 9, Split: 2, Accuracy: 0.8597, Precisión: 0.8318, Recall: 0.9016, F1-score: 0.8653, AUC-ROC: 0.8597\n"
     ]
    },
    {
     "name": "stderr",
     "output_type": "stream",
     "text": [
      "d:\\Anaconda\\lib\\site-packages\\sklearn\\base.py:420: UserWarning: X does not have valid feature names, but DecisionTreeClassifier was fitted with feature names\n",
      "  warnings.warn(\n"
     ]
    },
    {
     "name": "stdout",
     "output_type": "stream",
     "text": [
      "Profundidad: 9, Split: 5, Accuracy: 0.8674, Precisión: 0.8443, Recall: 0.9009, F1-score: 0.8717, AUC-ROC: 0.8674\n"
     ]
    },
    {
     "name": "stderr",
     "output_type": "stream",
     "text": [
      "d:\\Anaconda\\lib\\site-packages\\sklearn\\base.py:420: UserWarning: X does not have valid feature names, but DecisionTreeClassifier was fitted with feature names\n",
      "  warnings.warn(\n"
     ]
    },
    {
     "name": "stdout",
     "output_type": "stream",
     "text": [
      "Profundidad: 9, Split: 10, Accuracy: 0.8674, Precisión: 0.8443, Recall: 0.9009, F1-score: 0.8717, AUC-ROC: 0.8674\n"
     ]
    },
    {
     "name": "stderr",
     "output_type": "stream",
     "text": [
      "d:\\Anaconda\\lib\\site-packages\\sklearn\\base.py:420: UserWarning: X does not have valid feature names, but DecisionTreeClassifier was fitted with feature names\n",
      "  warnings.warn(\n"
     ]
    },
    {
     "name": "stdout",
     "output_type": "stream",
     "text": [
      "Profundidad: 10, Split: 2, Accuracy: 0.8744, Precisión: 0.8561, Recall: 0.9002, F1-score: 0.8776, AUC-ROC: 0.8744\n"
     ]
    },
    {
     "name": "stderr",
     "output_type": "stream",
     "text": [
      "d:\\Anaconda\\lib\\site-packages\\sklearn\\base.py:420: UserWarning: X does not have valid feature names, but DecisionTreeClassifier was fitted with feature names\n",
      "  warnings.warn(\n"
     ]
    },
    {
     "name": "stdout",
     "output_type": "stream",
     "text": [
      "Profundidad: 10, Split: 5, Accuracy: 0.8749, Precisión: 0.8570, Recall: 0.9001, F1-score: 0.8780, AUC-ROC: 0.8749\n"
     ]
    },
    {
     "name": "stderr",
     "output_type": "stream",
     "text": [
      "d:\\Anaconda\\lib\\site-packages\\sklearn\\base.py:420: UserWarning: X does not have valid feature names, but DecisionTreeClassifier was fitted with feature names\n",
      "  warnings.warn(\n"
     ]
    },
    {
     "name": "stdout",
     "output_type": "stream",
     "text": [
      "Profundidad: 10, Split: 10, Accuracy: 0.8749, Precisión: 0.8570, Recall: 0.9001, F1-score: 0.8780, AUC-ROC: 0.8749\n"
     ]
    },
    {
     "name": "stderr",
     "output_type": "stream",
     "text": [
      "d:\\Anaconda\\lib\\site-packages\\sklearn\\base.py:420: UserWarning: X does not have valid feature names, but DecisionTreeClassifier was fitted with feature names\n",
      "  warnings.warn(\n"
     ]
    },
    {
     "name": "stdout",
     "output_type": "stream",
     "text": [
      "Profundidad: 11, Split: 2, Accuracy: 0.8613, Precisión: 0.8312, Recall: 0.9067, F1-score: 0.8673, AUC-ROC: 0.8613\n"
     ]
    },
    {
     "name": "stderr",
     "output_type": "stream",
     "text": [
      "d:\\Anaconda\\lib\\site-packages\\sklearn\\base.py:420: UserWarning: X does not have valid feature names, but DecisionTreeClassifier was fitted with feature names\n",
      "  warnings.warn(\n"
     ]
    },
    {
     "name": "stdout",
     "output_type": "stream",
     "text": [
      "Profundidad: 11, Split: 5, Accuracy: 0.8673, Precisión: 0.8409, Recall: 0.9061, F1-score: 0.8723, AUC-ROC: 0.8673\n"
     ]
    },
    {
     "name": "stderr",
     "output_type": "stream",
     "text": [
      "d:\\Anaconda\\lib\\site-packages\\sklearn\\base.py:420: UserWarning: X does not have valid feature names, but DecisionTreeClassifier was fitted with feature names\n",
      "  warnings.warn(\n"
     ]
    },
    {
     "name": "stdout",
     "output_type": "stream",
     "text": [
      "Profundidad: 11, Split: 10, Accuracy: 0.8682, Precisión: 0.8424, Recall: 0.9060, F1-score: 0.8730, AUC-ROC: 0.8682\n"
     ]
    },
    {
     "name": "stderr",
     "output_type": "stream",
     "text": [
      "d:\\Anaconda\\lib\\site-packages\\sklearn\\base.py:420: UserWarning: X does not have valid feature names, but DecisionTreeClassifier was fitted with feature names\n",
      "  warnings.warn(\n"
     ]
    },
    {
     "name": "stdout",
     "output_type": "stream",
     "text": [
      "Profundidad: 12, Split: 2, Accuracy: 0.8265, Precisión: 0.7754, Recall: 0.9193, F1-score: 0.8412, AUC-ROC: 0.8265\n"
     ]
    },
    {
     "name": "stderr",
     "output_type": "stream",
     "text": [
      "d:\\Anaconda\\lib\\site-packages\\sklearn\\base.py:420: UserWarning: X does not have valid feature names, but DecisionTreeClassifier was fitted with feature names\n",
      "  warnings.warn(\n"
     ]
    },
    {
     "name": "stdout",
     "output_type": "stream",
     "text": [
      "Profundidad: 12, Split: 5, Accuracy: 0.8647, Precisión: 0.8344, Recall: 0.9099, F1-score: 0.8705, AUC-ROC: 0.8647\n"
     ]
    },
    {
     "name": "stderr",
     "output_type": "stream",
     "text": [
      "d:\\Anaconda\\lib\\site-packages\\sklearn\\base.py:420: UserWarning: X does not have valid feature names, but DecisionTreeClassifier was fitted with feature names\n",
      "  warnings.warn(\n"
     ]
    },
    {
     "name": "stdout",
     "output_type": "stream",
     "text": [
      "Profundidad: 12, Split: 10, Accuracy: 0.8661, Precisión: 0.8366, Recall: 0.9098, F1-score: 0.8717, AUC-ROC: 0.8661\n"
     ]
    },
    {
     "name": "stderr",
     "output_type": "stream",
     "text": [
      "d:\\Anaconda\\lib\\site-packages\\sklearn\\base.py:420: UserWarning: X does not have valid feature names, but DecisionTreeClassifier was fitted with feature names\n",
      "  warnings.warn(\n"
     ]
    },
    {
     "name": "stdout",
     "output_type": "stream",
     "text": [
      "Profundidad: 13, Split: 2, Accuracy: 0.7543, Precisión: 0.6845, Recall: 0.9434, F1-score: 0.7934, AUC-ROC: 0.7543\n"
     ]
    },
    {
     "name": "stderr",
     "output_type": "stream",
     "text": [
      "d:\\Anaconda\\lib\\site-packages\\sklearn\\base.py:420: UserWarning: X does not have valid feature names, but DecisionTreeClassifier was fitted with feature names\n",
      "  warnings.warn(\n"
     ]
    },
    {
     "name": "stdout",
     "output_type": "stream",
     "text": [
      "Profundidad: 13, Split: 5, Accuracy: 0.8372, Precisión: 0.7892, Recall: 0.9201, F1-score: 0.8496, AUC-ROC: 0.8372\n"
     ]
    },
    {
     "name": "stderr",
     "output_type": "stream",
     "text": [
      "d:\\Anaconda\\lib\\site-packages\\sklearn\\base.py:420: UserWarning: X does not have valid feature names, but DecisionTreeClassifier was fitted with feature names\n",
      "  warnings.warn(\n"
     ]
    },
    {
     "name": "stdout",
     "output_type": "stream",
     "text": [
      "Profundidad: 13, Split: 10, Accuracy: 0.8376, Precisión: 0.7898, Recall: 0.9201, F1-score: 0.8500, AUC-ROC: 0.8376\n"
     ]
    },
    {
     "name": "stderr",
     "output_type": "stream",
     "text": [
      "d:\\Anaconda\\lib\\site-packages\\sklearn\\base.py:420: UserWarning: X does not have valid feature names, but DecisionTreeClassifier was fitted with feature names\n",
      "  warnings.warn(\n"
     ]
    },
    {
     "name": "stdout",
     "output_type": "stream",
     "text": [
      "Profundidad: 14, Split: 2, Accuracy: 0.8008, Precisión: 0.7373, Recall: 0.9344, F1-score: 0.8243, AUC-ROC: 0.8008\n"
     ]
    },
    {
     "name": "stderr",
     "output_type": "stream",
     "text": [
      "d:\\Anaconda\\lib\\site-packages\\sklearn\\base.py:420: UserWarning: X does not have valid feature names, but DecisionTreeClassifier was fitted with feature names\n",
      "  warnings.warn(\n"
     ]
    },
    {
     "name": "stdout",
     "output_type": "stream",
     "text": [
      "Profundidad: 14, Split: 5, Accuracy: 0.8668, Precisión: 0.8346, Recall: 0.9150, F1-score: 0.8730, AUC-ROC: 0.8668\n",
      "Profundidad: 14, Split: 10, Accuracy: 0.8686, Precisión: 0.8374, Recall: 0.9149, F1-score: 0.8744, AUC-ROC: 0.8686\n"
     ]
    },
    {
     "name": "stderr",
     "output_type": "stream",
     "text": [
      "d:\\Anaconda\\lib\\site-packages\\sklearn\\base.py:420: UserWarning: X does not have valid feature names, but DecisionTreeClassifier was fitted with feature names\n",
      "  warnings.warn(\n"
     ]
    }
   ],
   "source": [
    "for profundidad in range(1, 15):\n",
    "    for split in [2, 5, 10]:\n",
    "        arbol_clf = DecisionTreeClassifier(max_depth=profundidad, min_samples_split=split, criterion=\"gini\", class_weight=\"balanced\", random_state=42)\n",
    "        arbol_clf.fit(X_train_resampled, y_train_resampled)\n",
    "        Y_pred = arbol_clf.predict(X_prueba_caracteristica)\n",
    "\n",
    "        accuracy_arbol = accuracy_score(Y_prueba_objetivo, Y_pred)\n",
    "        precision_arbol = precision_score(Y_prueba_objetivo, Y_pred, zero_division=0)\n",
    "        recall_arbol = recall_score(Y_prueba_objetivo, Y_pred)\n",
    "        f1_arbol = f1_score(Y_prueba_objetivo, Y_pred)\n",
    "        auc_roc_arbol = roc_auc_score(Y_prueba_objetivo, Y_pred)\n",
    "\n",
    "        print(f\"Profundidad: {profundidad}, Split: {split}, Accuracy: {accuracy_arbol:.4f}, Precisión: {precision_arbol:.4f}, Recall: {recall_arbol:.4f}, F1-score: {f1_arbol:.4f}, AUC-ROC: {auc_roc_arbol:.4f}\")\n"
   ]
  },
  {
   "cell_type": "markdown",
   "id": "4a52b6a8",
   "metadata": {},
   "source": [
    "El mejor resultado para el modelo de árboles de decision es el siguiente: \n",
    "Profundidad: 7, Split: 10\n",
    "Accuracy: 0.9244\n",
    "Precisión: 0.9611\n",
    "Recall: 0.8845 \n",
    "F1-score: 0.9212\n",
    "AUC-ROC: 0.9244"
   ]
  },
  {
   "cell_type": "code",
   "execution_count": 13,
   "id": "c9e19027",
   "metadata": {},
   "outputs": [
    {
     "data": {
      "application/vnd.microsoft.datawrangler.viewer.v0+json": {
       "columns": [
        {
         "name": "index",
         "rawType": "int64",
         "type": "integer"
        },
        {
         "name": "Modelo",
         "rawType": "object",
         "type": "string"
        },
        {
         "name": "Profundidad",
         "rawType": "int64",
         "type": "integer"
        },
        {
         "name": "Split",
         "rawType": "int64",
         "type": "integer"
        },
        {
         "name": "Accuracy",
         "rawType": "float64",
         "type": "float"
        },
        {
         "name": "Precision",
         "rawType": "float64",
         "type": "float"
        },
        {
         "name": "Recall",
         "rawType": "float64",
         "type": "float"
        },
        {
         "name": "F1-Score",
         "rawType": "float64",
         "type": "float"
        },
        {
         "name": "AUC-ROC",
         "rawType": "float64",
         "type": "float"
        }
       ],
       "conversionMethod": "pd.DataFrame",
       "ref": "aa2a7b63-5a68-4770-a64e-e594f752a21e",
       "rows": [
        [
         "0",
         "Decision Tree",
         "14",
         "10",
         "0.8686",
         "0.8374",
         "0.9149",
         "0.8744",
         "0.8686"
        ]
       ],
       "shape": {
        "columns": 8,
        "rows": 1
       }
      },
      "text/html": [
       "<div>\n",
       "<style scoped>\n",
       "    .dataframe tbody tr th:only-of-type {\n",
       "        vertical-align: middle;\n",
       "    }\n",
       "\n",
       "    .dataframe tbody tr th {\n",
       "        vertical-align: top;\n",
       "    }\n",
       "\n",
       "    .dataframe thead th {\n",
       "        text-align: right;\n",
       "    }\n",
       "</style>\n",
       "<table border=\"1\" class=\"dataframe\">\n",
       "  <thead>\n",
       "    <tr style=\"text-align: right;\">\n",
       "      <th></th>\n",
       "      <th>Modelo</th>\n",
       "      <th>Profundidad</th>\n",
       "      <th>Split</th>\n",
       "      <th>Accuracy</th>\n",
       "      <th>Precision</th>\n",
       "      <th>Recall</th>\n",
       "      <th>F1-Score</th>\n",
       "      <th>AUC-ROC</th>\n",
       "    </tr>\n",
       "  </thead>\n",
       "  <tbody>\n",
       "    <tr>\n",
       "      <th>0</th>\n",
       "      <td>Decision Tree</td>\n",
       "      <td>14</td>\n",
       "      <td>10</td>\n",
       "      <td>0.8686</td>\n",
       "      <td>0.8374</td>\n",
       "      <td>0.9149</td>\n",
       "      <td>0.8744</td>\n",
       "      <td>0.8686</td>\n",
       "    </tr>\n",
       "  </tbody>\n",
       "</table>\n",
       "</div>"
      ],
      "text/plain": [
       "          Modelo  Profundidad  Split  Accuracy  Precision  Recall  F1-Score  \\\n",
       "0  Decision Tree           14     10    0.8686     0.8374  0.9149    0.8744   \n",
       "\n",
       "   AUC-ROC  \n",
       "0   0.8686  "
      ]
     },
     "execution_count": 13,
     "metadata": {},
     "output_type": "execute_result"
    }
   ],
   "source": [
    "resultados_decision = []\n",
    "\n",
    "# Agregar la combinación específica al DataFrame\n",
    "resultados_decision.append({\n",
    "    'Modelo': 'Decision Tree',\n",
    "    \"Profundidad\": 14,\n",
    "    \"Split\": 10,\n",
    "    \"Accuracy\": 0.8686,\n",
    "    \"Precision\": 0.8374,\n",
    "    \"Recall\": 0.9149,\n",
    "    \"F1-Score\": 0.8744,\n",
    "    \"AUC-ROC\": 0.8686\n",
    "})\n",
    "\n",
    "# Convertir la lista de resultados en un DataFrame\n",
    "df_resultados_decision_tree = pd.DataFrame(resultados_decision)\n",
    "\n",
    "df_resultados_decision_tree"
   ]
  },
  {
   "cell_type": "code",
   "execution_count": 14,
   "id": "806cb7c4",
   "metadata": {},
   "outputs": [
    {
     "name": "stderr",
     "output_type": "stream",
     "text": [
      "d:\\Anaconda\\lib\\site-packages\\sklearn\\base.py:420: UserWarning: X does not have valid feature names, but RandomForestClassifier was fitted with feature names\n",
      "  warnings.warn(\n"
     ]
    },
    {
     "name": "stdout",
     "output_type": "stream",
     "text": [
      "Estimadores: 10, Profundidad: 5, Accuracy: 0.8959, Precisión: 0.9262, Recall: 0.8603, F1-score: 0.8920, AUC-ROC: 0.8959\n"
     ]
    },
    {
     "name": "stderr",
     "output_type": "stream",
     "text": [
      "d:\\Anaconda\\lib\\site-packages\\sklearn\\base.py:420: UserWarning: X does not have valid feature names, but RandomForestClassifier was fitted with feature names\n",
      "  warnings.warn(\n"
     ]
    },
    {
     "name": "stdout",
     "output_type": "stream",
     "text": [
      "Estimadores: 10, Profundidad: 10, Accuracy: 0.9248, Precisión: 0.9727, Recall: 0.8742, F1-score: 0.9208, AUC-ROC: 0.9248\n"
     ]
    },
    {
     "name": "stderr",
     "output_type": "stream",
     "text": [
      "d:\\Anaconda\\lib\\site-packages\\sklearn\\base.py:420: UserWarning: X does not have valid feature names, but RandomForestClassifier was fitted with feature names\n",
      "  warnings.warn(\n"
     ]
    },
    {
     "name": "stdout",
     "output_type": "stream",
     "text": [
      "Estimadores: 10, Profundidad: 15, Accuracy: 0.9316, Precisión: 0.9904, Recall: 0.8717, F1-score: 0.9273, AUC-ROC: 0.9316\n"
     ]
    },
    {
     "name": "stderr",
     "output_type": "stream",
     "text": [
      "d:\\Anaconda\\lib\\site-packages\\sklearn\\base.py:420: UserWarning: X does not have valid feature names, but RandomForestClassifier was fitted with feature names\n",
      "  warnings.warn(\n"
     ]
    },
    {
     "name": "stdout",
     "output_type": "stream",
     "text": [
      "Estimadores: 20, Profundidad: 5, Accuracy: 0.8976, Precisión: 0.9405, Recall: 0.8489, F1-score: 0.8924, AUC-ROC: 0.8976\n"
     ]
    },
    {
     "name": "stderr",
     "output_type": "stream",
     "text": [
      "d:\\Anaconda\\lib\\site-packages\\sklearn\\base.py:420: UserWarning: X does not have valid feature names, but RandomForestClassifier was fitted with feature names\n",
      "  warnings.warn(\n"
     ]
    },
    {
     "name": "stdout",
     "output_type": "stream",
     "text": [
      "Estimadores: 20, Profundidad: 10, Accuracy: 0.9318, Precisión: 0.9895, Recall: 0.8730, F1-score: 0.9276, AUC-ROC: 0.9318\n"
     ]
    },
    {
     "name": "stderr",
     "output_type": "stream",
     "text": [
      "d:\\Anaconda\\lib\\site-packages\\sklearn\\base.py:420: UserWarning: X does not have valid feature names, but RandomForestClassifier was fitted with feature names\n",
      "  warnings.warn(\n"
     ]
    },
    {
     "name": "stdout",
     "output_type": "stream",
     "text": [
      "Estimadores: 20, Profundidad: 15, Accuracy: 0.9451, Precisión: 0.9971, Recall: 0.8928, F1-score: 0.9421, AUC-ROC: 0.9451\n"
     ]
    },
    {
     "name": "stderr",
     "output_type": "stream",
     "text": [
      "d:\\Anaconda\\lib\\site-packages\\sklearn\\base.py:420: UserWarning: X does not have valid feature names, but RandomForestClassifier was fitted with feature names\n",
      "  warnings.warn(\n"
     ]
    },
    {
     "name": "stdout",
     "output_type": "stream",
     "text": [
      "Estimadores: 30, Profundidad: 5, Accuracy: 0.9027, Precisión: 0.9520, Recall: 0.8481, F1-score: 0.8970, AUC-ROC: 0.9027\n"
     ]
    },
    {
     "name": "stderr",
     "output_type": "stream",
     "text": [
      "d:\\Anaconda\\lib\\site-packages\\sklearn\\base.py:420: UserWarning: X does not have valid feature names, but RandomForestClassifier was fitted with feature names\n",
      "  warnings.warn(\n"
     ]
    },
    {
     "name": "stdout",
     "output_type": "stream",
     "text": [
      "Estimadores: 30, Profundidad: 10, Accuracy: 0.9338, Precisión: 0.9958, Recall: 0.8713, F1-score: 0.9294, AUC-ROC: 0.9338\n"
     ]
    },
    {
     "name": "stderr",
     "output_type": "stream",
     "text": [
      "d:\\Anaconda\\lib\\site-packages\\sklearn\\base.py:420: UserWarning: X does not have valid feature names, but RandomForestClassifier was fitted with feature names\n",
      "  warnings.warn(\n"
     ]
    },
    {
     "name": "stdout",
     "output_type": "stream",
     "text": [
      "Estimadores: 30, Profundidad: 15, Accuracy: 0.9449, Precisión: 0.9992, Recall: 0.8905, F1-score: 0.9417, AUC-ROC: 0.9449\n"
     ]
    },
    {
     "name": "stderr",
     "output_type": "stream",
     "text": [
      "d:\\Anaconda\\lib\\site-packages\\sklearn\\base.py:420: UserWarning: X does not have valid feature names, but RandomForestClassifier was fitted with feature names\n",
      "  warnings.warn(\n"
     ]
    },
    {
     "name": "stdout",
     "output_type": "stream",
     "text": [
      "Estimadores: 40, Profundidad: 5, Accuracy: 0.9023, Precisión: 0.9496, Recall: 0.8497, F1-score: 0.8969, AUC-ROC: 0.9023\n"
     ]
    },
    {
     "name": "stderr",
     "output_type": "stream",
     "text": [
      "d:\\Anaconda\\lib\\site-packages\\sklearn\\base.py:420: UserWarning: X does not have valid feature names, but RandomForestClassifier was fitted with feature names\n",
      "  warnings.warn(\n"
     ]
    },
    {
     "name": "stdout",
     "output_type": "stream",
     "text": [
      "Estimadores: 40, Profundidad: 10, Accuracy: 0.9356, Precisión: 0.9964, Recall: 0.8744, F1-score: 0.9314, AUC-ROC: 0.9356\n"
     ]
    },
    {
     "name": "stderr",
     "output_type": "stream",
     "text": [
      "d:\\Anaconda\\lib\\site-packages\\sklearn\\base.py:420: UserWarning: X does not have valid feature names, but RandomForestClassifier was fitted with feature names\n",
      "  warnings.warn(\n"
     ]
    },
    {
     "name": "stdout",
     "output_type": "stream",
     "text": [
      "Estimadores: 40, Profundidad: 15, Accuracy: 0.9462, Precisión: 0.9997, Recall: 0.8927, F1-score: 0.9431, AUC-ROC: 0.9462\n"
     ]
    },
    {
     "name": "stderr",
     "output_type": "stream",
     "text": [
      "d:\\Anaconda\\lib\\site-packages\\sklearn\\base.py:420: UserWarning: X does not have valid feature names, but RandomForestClassifier was fitted with feature names\n",
      "  warnings.warn(\n"
     ]
    },
    {
     "name": "stdout",
     "output_type": "stream",
     "text": [
      "Estimadores: 50, Profundidad: 5, Accuracy: 0.9060, Precisión: 0.9542, Recall: 0.8529, F1-score: 0.9007, AUC-ROC: 0.9060\n"
     ]
    },
    {
     "name": "stderr",
     "output_type": "stream",
     "text": [
      "d:\\Anaconda\\lib\\site-packages\\sklearn\\base.py:420: UserWarning: X does not have valid feature names, but RandomForestClassifier was fitted with feature names\n",
      "  warnings.warn(\n"
     ]
    },
    {
     "name": "stdout",
     "output_type": "stream",
     "text": [
      "Estimadores: 50, Profundidad: 10, Accuracy: 0.9359, Precisión: 0.9983, Recall: 0.8732, F1-score: 0.9316, AUC-ROC: 0.9359\n"
     ]
    },
    {
     "name": "stderr",
     "output_type": "stream",
     "text": [
      "d:\\Anaconda\\lib\\site-packages\\sklearn\\base.py:420: UserWarning: X does not have valid feature names, but RandomForestClassifier was fitted with feature names\n",
      "  warnings.warn(\n"
     ]
    },
    {
     "name": "stdout",
     "output_type": "stream",
     "text": [
      "Estimadores: 50, Profundidad: 15, Accuracy: 0.9488, Precisión: 0.9998, Recall: 0.8978, F1-score: 0.9461, AUC-ROC: 0.9488\n"
     ]
    },
    {
     "name": "stderr",
     "output_type": "stream",
     "text": [
      "d:\\Anaconda\\lib\\site-packages\\sklearn\\base.py:420: UserWarning: X does not have valid feature names, but RandomForestClassifier was fitted with feature names\n",
      "  warnings.warn(\n"
     ]
    },
    {
     "name": "stdout",
     "output_type": "stream",
     "text": [
      "Estimadores: 60, Profundidad: 5, Accuracy: 0.9083, Precisión: 0.9606, Recall: 0.8515, F1-score: 0.9028, AUC-ROC: 0.9083\n"
     ]
    },
    {
     "name": "stderr",
     "output_type": "stream",
     "text": [
      "d:\\Anaconda\\lib\\site-packages\\sklearn\\base.py:420: UserWarning: X does not have valid feature names, but RandomForestClassifier was fitted with feature names\n",
      "  warnings.warn(\n"
     ]
    },
    {
     "name": "stdout",
     "output_type": "stream",
     "text": [
      "Estimadores: 60, Profundidad: 10, Accuracy: 0.9369, Precisión: 0.9989, Recall: 0.8748, F1-score: 0.9328, AUC-ROC: 0.9369\n"
     ]
    },
    {
     "name": "stderr",
     "output_type": "stream",
     "text": [
      "d:\\Anaconda\\lib\\site-packages\\sklearn\\base.py:420: UserWarning: X does not have valid feature names, but RandomForestClassifier was fitted with feature names\n",
      "  warnings.warn(\n"
     ]
    },
    {
     "name": "stdout",
     "output_type": "stream",
     "text": [
      "Estimadores: 60, Profundidad: 15, Accuracy: 0.9508, Precisión: 0.9998, Recall: 0.9017, F1-score: 0.9482, AUC-ROC: 0.9508\n"
     ]
    },
    {
     "name": "stderr",
     "output_type": "stream",
     "text": [
      "d:\\Anaconda\\lib\\site-packages\\sklearn\\base.py:420: UserWarning: X does not have valid feature names, but RandomForestClassifier was fitted with feature names\n",
      "  warnings.warn(\n"
     ]
    },
    {
     "name": "stdout",
     "output_type": "stream",
     "text": [
      "Estimadores: 70, Profundidad: 5, Accuracy: 0.9077, Precisión: 0.9652, Recall: 0.8459, F1-score: 0.9016, AUC-ROC: 0.9077\n"
     ]
    },
    {
     "name": "stderr",
     "output_type": "stream",
     "text": [
      "d:\\Anaconda\\lib\\site-packages\\sklearn\\base.py:420: UserWarning: X does not have valid feature names, but RandomForestClassifier was fitted with feature names\n",
      "  warnings.warn(\n"
     ]
    },
    {
     "name": "stdout",
     "output_type": "stream",
     "text": [
      "Estimadores: 70, Profundidad: 10, Accuracy: 0.9352, Precisión: 0.9989, Recall: 0.8714, F1-score: 0.9308, AUC-ROC: 0.9352\n"
     ]
    },
    {
     "name": "stderr",
     "output_type": "stream",
     "text": [
      "d:\\Anaconda\\lib\\site-packages\\sklearn\\base.py:420: UserWarning: X does not have valid feature names, but RandomForestClassifier was fitted with feature names\n",
      "  warnings.warn(\n"
     ]
    },
    {
     "name": "stdout",
     "output_type": "stream",
     "text": [
      "Estimadores: 70, Profundidad: 15, Accuracy: 0.9493, Precisión: 0.9998, Recall: 0.8987, F1-score: 0.9466, AUC-ROC: 0.9493\n"
     ]
    },
    {
     "name": "stderr",
     "output_type": "stream",
     "text": [
      "d:\\Anaconda\\lib\\site-packages\\sklearn\\base.py:420: UserWarning: X does not have valid feature names, but RandomForestClassifier was fitted with feature names\n",
      "  warnings.warn(\n"
     ]
    },
    {
     "name": "stdout",
     "output_type": "stream",
     "text": [
      "Estimadores: 80, Profundidad: 5, Accuracy: 0.9084, Precisión: 0.9633, Recall: 0.8491, F1-score: 0.9026, AUC-ROC: 0.9084\n"
     ]
    },
    {
     "name": "stderr",
     "output_type": "stream",
     "text": [
      "d:\\Anaconda\\lib\\site-packages\\sklearn\\base.py:420: UserWarning: X does not have valid feature names, but RandomForestClassifier was fitted with feature names\n",
      "  warnings.warn(\n"
     ]
    },
    {
     "name": "stdout",
     "output_type": "stream",
     "text": [
      "Estimadores: 80, Profundidad: 10, Accuracy: 0.9352, Precisión: 0.9993, Recall: 0.8710, F1-score: 0.9307, AUC-ROC: 0.9352\n"
     ]
    },
    {
     "name": "stderr",
     "output_type": "stream",
     "text": [
      "d:\\Anaconda\\lib\\site-packages\\sklearn\\base.py:420: UserWarning: X does not have valid feature names, but RandomForestClassifier was fitted with feature names\n",
      "  warnings.warn(\n"
     ]
    },
    {
     "name": "stdout",
     "output_type": "stream",
     "text": [
      "Estimadores: 80, Profundidad: 15, Accuracy: 0.9494, Precisión: 0.9998, Recall: 0.8989, F1-score: 0.9467, AUC-ROC: 0.9494\n"
     ]
    },
    {
     "name": "stderr",
     "output_type": "stream",
     "text": [
      "d:\\Anaconda\\lib\\site-packages\\sklearn\\base.py:420: UserWarning: X does not have valid feature names, but RandomForestClassifier was fitted with feature names\n",
      "  warnings.warn(\n"
     ]
    },
    {
     "name": "stdout",
     "output_type": "stream",
     "text": [
      "Estimadores: 90, Profundidad: 5, Accuracy: 0.9102, Precisión: 0.9670, Recall: 0.8495, F1-score: 0.9044, AUC-ROC: 0.9102\n"
     ]
    },
    {
     "name": "stderr",
     "output_type": "stream",
     "text": [
      "d:\\Anaconda\\lib\\site-packages\\sklearn\\base.py:420: UserWarning: X does not have valid feature names, but RandomForestClassifier was fitted with feature names\n",
      "  warnings.warn(\n"
     ]
    },
    {
     "name": "stdout",
     "output_type": "stream",
     "text": [
      "Estimadores: 90, Profundidad: 10, Accuracy: 0.9340, Precisión: 0.9989, Recall: 0.8688, F1-score: 0.9294, AUC-ROC: 0.9340\n"
     ]
    },
    {
     "name": "stderr",
     "output_type": "stream",
     "text": [
      "d:\\Anaconda\\lib\\site-packages\\sklearn\\base.py:420: UserWarning: X does not have valid feature names, but RandomForestClassifier was fitted with feature names\n",
      "  warnings.warn(\n"
     ]
    },
    {
     "name": "stdout",
     "output_type": "stream",
     "text": [
      "Estimadores: 90, Profundidad: 15, Accuracy: 0.9496, Precisión: 0.9998, Recall: 0.8995, F1-score: 0.9470, AUC-ROC: 0.9496\n"
     ]
    },
    {
     "name": "stderr",
     "output_type": "stream",
     "text": [
      "d:\\Anaconda\\lib\\site-packages\\sklearn\\base.py:420: UserWarning: X does not have valid feature names, but RandomForestClassifier was fitted with feature names\n",
      "  warnings.warn(\n"
     ]
    },
    {
     "name": "stdout",
     "output_type": "stream",
     "text": [
      "Estimadores: 100, Profundidad: 5, Accuracy: 0.9104, Precisión: 0.9692, Recall: 0.8477, F1-score: 0.9044, AUC-ROC: 0.9104\n"
     ]
    },
    {
     "name": "stderr",
     "output_type": "stream",
     "text": [
      "d:\\Anaconda\\lib\\site-packages\\sklearn\\base.py:420: UserWarning: X does not have valid feature names, but RandomForestClassifier was fitted with feature names\n",
      "  warnings.warn(\n"
     ]
    },
    {
     "name": "stdout",
     "output_type": "stream",
     "text": [
      "Estimadores: 100, Profundidad: 10, Accuracy: 0.9338, Precisión: 0.9989, Recall: 0.8685, F1-score: 0.9292, AUC-ROC: 0.9338\n"
     ]
    },
    {
     "name": "stderr",
     "output_type": "stream",
     "text": [
      "d:\\Anaconda\\lib\\site-packages\\sklearn\\base.py:420: UserWarning: X does not have valid feature names, but RandomForestClassifier was fitted with feature names\n",
      "  warnings.warn(\n"
     ]
    },
    {
     "name": "stdout",
     "output_type": "stream",
     "text": [
      "Estimadores: 100, Profundidad: 15, Accuracy: 0.9498, Precisión: 0.9998, Recall: 0.8999, F1-score: 0.9472, AUC-ROC: 0.9498\n"
     ]
    }
   ],
   "source": [
    "for estimadores in range(10, 101, 10):\n",
    "    for profundidad in [5, 10, 15]:\n",
    "        bosque_clf = RandomForestClassifier(n_estimators=estimadores, max_depth=profundidad, min_samples_split=5, class_weight=\"balanced_subsample\", random_state=42)\n",
    "        bosque_clf.fit(X_train_resampled, y_train_resampled)\n",
    "        Y_pred = bosque_clf.predict(X_prueba_caracteristica)\n",
    "\n",
    "        accuracy_bosque = accuracy_score(Y_prueba_objetivo, Y_pred)\n",
    "        precision_bosque = precision_score(Y_prueba_objetivo, Y_pred, zero_division=0)\n",
    "        recall_bosque = recall_score(Y_prueba_objetivo, Y_pred)\n",
    "        f1_bosque = f1_score(Y_prueba_objetivo, Y_pred)\n",
    "        auc_roc_bosque = roc_auc_score(Y_prueba_objetivo, Y_pred)\n",
    "\n",
    "        print(f\"Estimadores: {estimadores}, Profundidad: {profundidad}, Accuracy: {accuracy_bosque:.4f}, Precisión: {precision_bosque:.4f}, Recall: {recall_bosque:.4f}, F1-score: {f1_bosque:.4f}, AUC-ROC: {auc_roc_bosque:.4f}\")"
   ]
  },
  {
   "cell_type": "markdown",
   "id": "cec2741b",
   "metadata": {},
   "source": [
    "El mejor resultado para Random Forest es con los siguientes estimadores:\n",
    "Estimadores: 100, Profundidad: 15\n",
    "Accuracy: 0.9498\n",
    "Precisión: 0.9998\n",
    "Recall: 0.8999 \n",
    "F1-score: 0.9472\n",
    "AUC-ROC: 0.9498"
   ]
  },
  {
   "cell_type": "code",
   "execution_count": 15,
   "id": "7484b87a",
   "metadata": {},
   "outputs": [
    {
     "data": {
      "application/vnd.microsoft.datawrangler.viewer.v0+json": {
       "columns": [
        {
         "name": "index",
         "rawType": "int64",
         "type": "integer"
        },
        {
         "name": "Modelo",
         "rawType": "object",
         "type": "string"
        },
        {
         "name": "Estimadores",
         "rawType": "int64",
         "type": "integer"
        },
        {
         "name": "Profundidad",
         "rawType": "int64",
         "type": "integer"
        },
        {
         "name": "Accuracy",
         "rawType": "float64",
         "type": "float"
        },
        {
         "name": "Precision",
         "rawType": "float64",
         "type": "float"
        },
        {
         "name": "Recall",
         "rawType": "float64",
         "type": "float"
        },
        {
         "name": "F1-Score",
         "rawType": "float64",
         "type": "float"
        },
        {
         "name": "AUC-ROC",
         "rawType": "float64",
         "type": "float"
        }
       ],
       "conversionMethod": "pd.DataFrame",
       "ref": "e78564ff-afeb-4f2c-b996-53fcfe45378e",
       "rows": [
        [
         "0",
         "Random Forest",
         "100",
         "15",
         "0.9498",
         "0.9998",
         "0.8999",
         "0.9472",
         "0.9498"
        ]
       ],
       "shape": {
        "columns": 8,
        "rows": 1
       }
      },
      "text/html": [
       "<div>\n",
       "<style scoped>\n",
       "    .dataframe tbody tr th:only-of-type {\n",
       "        vertical-align: middle;\n",
       "    }\n",
       "\n",
       "    .dataframe tbody tr th {\n",
       "        vertical-align: top;\n",
       "    }\n",
       "\n",
       "    .dataframe thead th {\n",
       "        text-align: right;\n",
       "    }\n",
       "</style>\n",
       "<table border=\"1\" class=\"dataframe\">\n",
       "  <thead>\n",
       "    <tr style=\"text-align: right;\">\n",
       "      <th></th>\n",
       "      <th>Modelo</th>\n",
       "      <th>Estimadores</th>\n",
       "      <th>Profundidad</th>\n",
       "      <th>Accuracy</th>\n",
       "      <th>Precision</th>\n",
       "      <th>Recall</th>\n",
       "      <th>F1-Score</th>\n",
       "      <th>AUC-ROC</th>\n",
       "    </tr>\n",
       "  </thead>\n",
       "  <tbody>\n",
       "    <tr>\n",
       "      <th>0</th>\n",
       "      <td>Random Forest</td>\n",
       "      <td>100</td>\n",
       "      <td>15</td>\n",
       "      <td>0.9498</td>\n",
       "      <td>0.9998</td>\n",
       "      <td>0.8999</td>\n",
       "      <td>0.9472</td>\n",
       "      <td>0.9498</td>\n",
       "    </tr>\n",
       "  </tbody>\n",
       "</table>\n",
       "</div>"
      ],
      "text/plain": [
       "          Modelo  Estimadores  Profundidad  Accuracy  Precision  Recall  \\\n",
       "0  Random Forest          100           15    0.9498     0.9998  0.8999   \n",
       "\n",
       "   F1-Score  AUC-ROC  \n",
       "0    0.9472   0.9498  "
      ]
     },
     "execution_count": 15,
     "metadata": {},
     "output_type": "execute_result"
    }
   ],
   "source": [
    "resultados_random_forest = []\n",
    "\n",
    "# Agregar la combinación específica al DataFrame\n",
    "resultados_random_forest.append({\n",
    "    'Modelo': 'Random Forest',\n",
    "    \"Estimadores\": 100,\n",
    "    \"Profundidad\": 15,\n",
    "    \"Accuracy\": 0.9498,\n",
    "    \"Precision\": 0.9998,\n",
    "    \"Recall\": 0.8999,\n",
    "    \"F1-Score\": 0.9472,\n",
    "    \"AUC-ROC\": 0.9498\n",
    "})\n",
    "\n",
    "# Convertir la lista de resultados en un DataFrame\n",
    "df_resultados_random_forest = pd.DataFrame(resultados_random_forest)\n",
    "\n",
    "df_resultados_random_forest"
   ]
  },
  {
   "cell_type": "markdown",
   "id": "ca2d167c",
   "metadata": {},
   "source": [
    "## Test"
   ]
  },
  {
   "cell_type": "code",
   "execution_count": 16,
   "id": "51d9a5eb",
   "metadata": {},
   "outputs": [
    {
     "data": {
      "application/vnd.microsoft.datawrangler.viewer.v0+json": {
       "columns": [
        {
         "name": "index",
         "rawType": "int64",
         "type": "integer"
        },
        {
         "name": "Modelo",
         "rawType": "object",
         "type": "string"
        },
        {
         "name": "Accuracy",
         "rawType": "float64",
         "type": "float"
        },
        {
         "name": "Precisión",
         "rawType": "float64",
         "type": "float"
        },
        {
         "name": "Recall",
         "rawType": "float64",
         "type": "float"
        },
        {
         "name": "F1-score",
         "rawType": "float64",
         "type": "float"
        },
        {
         "name": "AUC-ROC",
         "rawType": "float64",
         "type": "float"
        }
       ],
       "conversionMethod": "pd.DataFrame",
       "ref": "a33092ab-73af-4fe8-8d10-80d48c6f6f81",
       "rows": [
        [
         "0",
         "Regresión Logística",
         "0.9707671684883481",
         "1.0",
         "0.9415343369766962",
         "0.9698868766264804",
         "0.9707671684883481"
        ]
       ],
       "shape": {
        "columns": 6,
        "rows": 1
       }
      },
      "text/html": [
       "<div>\n",
       "<style scoped>\n",
       "    .dataframe tbody tr th:only-of-type {\n",
       "        vertical-align: middle;\n",
       "    }\n",
       "\n",
       "    .dataframe tbody tr th {\n",
       "        vertical-align: top;\n",
       "    }\n",
       "\n",
       "    .dataframe thead th {\n",
       "        text-align: right;\n",
       "    }\n",
       "</style>\n",
       "<table border=\"1\" class=\"dataframe\">\n",
       "  <thead>\n",
       "    <tr style=\"text-align: right;\">\n",
       "      <th></th>\n",
       "      <th>Modelo</th>\n",
       "      <th>Accuracy</th>\n",
       "      <th>Precisión</th>\n",
       "      <th>Recall</th>\n",
       "      <th>F1-score</th>\n",
       "      <th>AUC-ROC</th>\n",
       "    </tr>\n",
       "  </thead>\n",
       "  <tbody>\n",
       "    <tr>\n",
       "      <th>0</th>\n",
       "      <td>Regresión Logística</td>\n",
       "      <td>0.970767</td>\n",
       "      <td>1.0</td>\n",
       "      <td>0.941534</td>\n",
       "      <td>0.969887</td>\n",
       "      <td>0.970767</td>\n",
       "    </tr>\n",
       "  </tbody>\n",
       "</table>\n",
       "</div>"
      ],
      "text/plain": [
       "                Modelo  Accuracy  Precisión    Recall  F1-score   AUC-ROC\n",
       "0  Regresión Logística  0.970767        1.0  0.941534  0.969887  0.970767"
      ]
     },
     "execution_count": 16,
     "metadata": {},
     "output_type": "execute_result"
    }
   ],
   "source": [
    "#Regresion logistica\n",
    "reg_log.fit(X_prueba_caracteristica, Y_prueba_objetivo)\n",
    "Y_pred_test = reg_log.predict(X_prueba_caracteristica)\n",
    "\n",
    "accuracy_rl_test = accuracy_score(Y_prueba_objetivo, Y_pred_test)\n",
    "precision_rl_test = precision_score(Y_prueba_objetivo, Y_pred_test, zero_division=0)\n",
    "recall_rl_test = recall_score(Y_prueba_objetivo, Y_pred_test)\n",
    "f1_rl_test = f1_score(Y_prueba_objetivo, Y_pred_test)\n",
    "auc_roc_rl_test = roc_auc_score(Y_prueba_objetivo, Y_pred_test)\n",
    "\n",
    "resultados_lr_test = []\n",
    "resultados_lr_test.append({\n",
    "    'Modelo': 'Regresión Logística',\n",
    "    'Accuracy': accuracy_rl_test,\n",
    "    'Precisión': precision_rl_test,\n",
    "    'Recall': recall_rl_test,\n",
    "    'F1-score': f1_rl_test,\n",
    "    'AUC-ROC': auc_roc_rl_test\n",
    "})\n",
    "df_rl_test = pd.DataFrame(resultados_lr_test)\n",
    "df_rl_test"
   ]
  },
  {
   "cell_type": "code",
   "execution_count": 20,
   "id": "39558f5b",
   "metadata": {},
   "outputs": [
    {
     "data": {
      "application/vnd.microsoft.datawrangler.viewer.v0+json": {
       "columns": [
        {
         "name": "index",
         "rawType": "int64",
         "type": "integer"
        },
        {
         "name": "Modelo",
         "rawType": "object",
         "type": "string"
        },
        {
         "name": "Profundidad",
         "rawType": "int64",
         "type": "integer"
        },
        {
         "name": "Split",
         "rawType": "int64",
         "type": "integer"
        },
        {
         "name": "Accuracy",
         "rawType": "float64",
         "type": "float"
        },
        {
         "name": "Precision",
         "rawType": "float64",
         "type": "float"
        },
        {
         "name": "Recall",
         "rawType": "float64",
         "type": "float"
        },
        {
         "name": "F1-Score",
         "rawType": "float64",
         "type": "float"
        },
        {
         "name": "AUC-ROC",
         "rawType": "float64",
         "type": "float"
        }
       ],
       "conversionMethod": "pd.DataFrame",
       "ref": "03f5f91a-b06e-4666-b2bd-2ae6c89a8d70",
       "rows": [
        [
         "0",
         "Decision Tree",
         "14",
         "10",
         "0.9278201691070324",
         "0.9598758590113057",
         "0.8929676221901423",
         "0.9252136752136751",
         "0.9278201691070324"
        ]
       ],
       "shape": {
        "columns": 8,
        "rows": 1
       }
      },
      "text/html": [
       "<div>\n",
       "<style scoped>\n",
       "    .dataframe tbody tr th:only-of-type {\n",
       "        vertical-align: middle;\n",
       "    }\n",
       "\n",
       "    .dataframe tbody tr th {\n",
       "        vertical-align: top;\n",
       "    }\n",
       "\n",
       "    .dataframe thead th {\n",
       "        text-align: right;\n",
       "    }\n",
       "</style>\n",
       "<table border=\"1\" class=\"dataframe\">\n",
       "  <thead>\n",
       "    <tr style=\"text-align: right;\">\n",
       "      <th></th>\n",
       "      <th>Modelo</th>\n",
       "      <th>Profundidad</th>\n",
       "      <th>Split</th>\n",
       "      <th>Accuracy</th>\n",
       "      <th>Precision</th>\n",
       "      <th>Recall</th>\n",
       "      <th>F1-Score</th>\n",
       "      <th>AUC-ROC</th>\n",
       "    </tr>\n",
       "  </thead>\n",
       "  <tbody>\n",
       "    <tr>\n",
       "      <th>0</th>\n",
       "      <td>Decision Tree</td>\n",
       "      <td>14</td>\n",
       "      <td>10</td>\n",
       "      <td>0.92782</td>\n",
       "      <td>0.959876</td>\n",
       "      <td>0.892968</td>\n",
       "      <td>0.925214</td>\n",
       "      <td>0.92782</td>\n",
       "    </tr>\n",
       "  </tbody>\n",
       "</table>\n",
       "</div>"
      ],
      "text/plain": [
       "          Modelo  Profundidad  Split  Accuracy  Precision    Recall  F1-Score  \\\n",
       "0  Decision Tree           14     10   0.92782   0.959876  0.892968  0.925214   \n",
       "\n",
       "   AUC-ROC  \n",
       "0  0.92782  "
      ]
     },
     "execution_count": 20,
     "metadata": {},
     "output_type": "execute_result"
    }
   ],
   "source": [
    "#Arbo de decision \n",
    "arbol_clf = DecisionTreeClassifier(max_depth=7, min_samples_split=10, criterion=\"gini\", class_weight=\"balanced\", random_state=42)\n",
    "arbol_clf.fit(X_prueba_caracteristica, Y_prueba_objetivo)\n",
    "Y_pred_test = arbol_clf.predict(X_prueba_caracteristica)\n",
    "\n",
    "accuracy_bosque_test = accuracy_score(Y_prueba_objetivo, Y_pred_test)\n",
    "precision_bosque_test = precision_score(Y_prueba_objetivo, Y_pred_test, zero_division=0)\n",
    "recall_bosque_test = recall_score(Y_prueba_objetivo, Y_pred_test)\n",
    "f1_bosque_test = f1_score(Y_prueba_objetivo, Y_pred_test)\n",
    "auc_roc_bosque_test = roc_auc_score(Y_prueba_objetivo, Y_pred_test)\n",
    "\n",
    "resultados_decision_test = []\n",
    "\n",
    "# Agregar la combinación específica al DataFrame\n",
    "resultados_decision_test.append({\n",
    "    'Modelo': 'Decision Tree',\n",
    "    \"Profundidad\": 14,\n",
    "    \"Split\": 10,\n",
    "    \"Accuracy\": accuracy_bosque_test,\n",
    "    \"Precision\": precision_bosque_test,\n",
    "    \"Recall\": recall_bosque_test,\n",
    "    \"F1-Score\": f1_bosque_test,\n",
    "    \"AUC-ROC\": auc_roc_bosque_test\n",
    "})\n",
    "\n",
    "# Convertir la lista de resultados en un DataFrame\n",
    "df_resultados_decision_tree_test = pd.DataFrame(resultados_decision_test)\n",
    "\n",
    "df_resultados_decision_tree_test"
   ]
  },
  {
   "cell_type": "code",
   "execution_count": 18,
   "id": "66215e54",
   "metadata": {},
   "outputs": [
    {
     "data": {
      "application/vnd.microsoft.datawrangler.viewer.v0+json": {
       "columns": [
        {
         "name": "index",
         "rawType": "int64",
         "type": "integer"
        },
        {
         "name": "Modelo",
         "rawType": "object",
         "type": "string"
        },
        {
         "name": "Estimadores",
         "rawType": "int64",
         "type": "integer"
        },
        {
         "name": "Profundidad",
         "rawType": "int64",
         "type": "integer"
        },
        {
         "name": "Accuracy",
         "rawType": "float64",
         "type": "float"
        },
        {
         "name": "Precision",
         "rawType": "float64",
         "type": "float"
        },
        {
         "name": "Recall",
         "rawType": "float64",
         "type": "float"
        },
        {
         "name": "F1-Score",
         "rawType": "float64",
         "type": "float"
        },
        {
         "name": "AUC-ROC",
         "rawType": "float64",
         "type": "float"
        }
       ],
       "conversionMethod": "pd.DataFrame",
       "ref": "78a4ecef-c89a-447f-9368-2049aec6a02f",
       "rows": [
        [
         "0",
         "Random Forest",
         "100",
         "15",
         "0.9754073004743246",
         "1.0",
         "0.9508146009486492",
         "0.9747872509117818",
         "0.9754073004743247"
        ]
       ],
       "shape": {
        "columns": 8,
        "rows": 1
       }
      },
      "text/html": [
       "<div>\n",
       "<style scoped>\n",
       "    .dataframe tbody tr th:only-of-type {\n",
       "        vertical-align: middle;\n",
       "    }\n",
       "\n",
       "    .dataframe tbody tr th {\n",
       "        vertical-align: top;\n",
       "    }\n",
       "\n",
       "    .dataframe thead th {\n",
       "        text-align: right;\n",
       "    }\n",
       "</style>\n",
       "<table border=\"1\" class=\"dataframe\">\n",
       "  <thead>\n",
       "    <tr style=\"text-align: right;\">\n",
       "      <th></th>\n",
       "      <th>Modelo</th>\n",
       "      <th>Estimadores</th>\n",
       "      <th>Profundidad</th>\n",
       "      <th>Accuracy</th>\n",
       "      <th>Precision</th>\n",
       "      <th>Recall</th>\n",
       "      <th>F1-Score</th>\n",
       "      <th>AUC-ROC</th>\n",
       "    </tr>\n",
       "  </thead>\n",
       "  <tbody>\n",
       "    <tr>\n",
       "      <th>0</th>\n",
       "      <td>Random Forest</td>\n",
       "      <td>100</td>\n",
       "      <td>15</td>\n",
       "      <td>0.975407</td>\n",
       "      <td>1.0</td>\n",
       "      <td>0.950815</td>\n",
       "      <td>0.974787</td>\n",
       "      <td>0.975407</td>\n",
       "    </tr>\n",
       "  </tbody>\n",
       "</table>\n",
       "</div>"
      ],
      "text/plain": [
       "          Modelo  Estimadores  Profundidad  Accuracy  Precision    Recall  \\\n",
       "0  Random Forest          100           15  0.975407        1.0  0.950815   \n",
       "\n",
       "   F1-Score   AUC-ROC  \n",
       "0  0.974787  0.975407  "
      ]
     },
     "execution_count": 18,
     "metadata": {},
     "output_type": "execute_result"
    }
   ],
   "source": [
    "#Random Forest\n",
    "bosque_clf = RandomForestClassifier(n_estimators=100, max_depth=15, min_samples_split=5, class_weight=\"balanced_subsample\", random_state=42)\n",
    "bosque_clf.fit(X_prueba_caracteristica, Y_prueba_objetivo)\n",
    "Y_pred_test = bosque_clf.predict(X_prueba_caracteristica)\n",
    "\n",
    "accuracy_bosque_test = accuracy_score(Y_prueba_objetivo, Y_pred_test)\n",
    "precision_bosque_test = precision_score(Y_prueba_objetivo, Y_pred_test, zero_division=0)\n",
    "recall_bosque_test = recall_score(Y_prueba_objetivo, Y_pred_test)\n",
    "f1_bosque_test = f1_score(Y_prueba_objetivo, Y_pred_test)\n",
    "auc_roc_bosque_test = roc_auc_score(Y_prueba_objetivo, Y_pred_test)\n",
    "\n",
    "resultados_random_forest_test = []\n",
    "\n",
    "# Agregar la combinación específica al DataFrame\n",
    "resultados_random_forest_test.append({\n",
    "    'Modelo': 'Random Forest',\n",
    "    \"Estimadores\": 100,\n",
    "    \"Profundidad\": 15,\n",
    "    \"Accuracy\": accuracy_bosque_test,\n",
    "    \"Precision\": precision_bosque_test,\n",
    "    \"Recall\": recall_bosque_test,\n",
    "    \"F1-Score\": f1_bosque_test,\n",
    "    \"AUC-ROC\": auc_roc_bosque_test\n",
    "})\n",
    "\n",
    "# Convertir la lista de resultados en un DataFrame\n",
    "df_resultados_random_forest_test = pd.DataFrame(resultados_random_forest_test)\n",
    "\n",
    "df_resultados_random_forest_test"
   ]
  }
 ],
 "metadata": {
  "kernelspec": {
   "display_name": "base",
   "language": "python",
   "name": "python3"
  },
  "language_info": {
   "codemirror_mode": {
    "name": "ipython",
    "version": 3
   },
   "file_extension": ".py",
   "mimetype": "text/x-python",
   "name": "python",
   "nbconvert_exporter": "python",
   "pygments_lexer": "ipython3",
   "version": "3.10.9"
  }
 },
 "nbformat": 4,
 "nbformat_minor": 5
}
