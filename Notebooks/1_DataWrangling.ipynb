{
 "cells": [
  {
   "cell_type": "markdown",
   "metadata": {},
   "source": [
    "## Importacion de librerias"
   ]
  },
  {
   "cell_type": "code",
   "execution_count": 2,
   "metadata": {},
   "outputs": [],
   "source": [
    "import numpy as np\n",
    "import pandas as pd\n",
    "import matplotlib.pyplot as plt\n",
    "import seaborn as sns\n",
    "import snowflake.connector\n",
    "from sqlalchemy import create_engine\n",
    "from sklearn.preprocessing import LabelEncoder\n",
    "import config "
   ]
  },
  {
   "cell_type": "markdown",
   "metadata": {},
   "source": [
    "### Lectura de la base"
   ]
  },
  {
   "cell_type": "code",
   "execution_count": 3,
   "metadata": {},
   "outputs": [
    {
     "name": "stdout",
     "output_type": "stream",
     "text": [
      "Conexión exitosa a Snowflake!\n"
     ]
    }
   ],
   "source": [
    "connection_url = f\"snowflake://{config.user}:{config.password}@{config.account}/{config.database}/{config.schema}?warehouse={config.warehouse}\"\n",
    "\n",
    "# Crear el motor de conexión\n",
    "engine = create_engine(connection_url)\n",
    "\n",
    "# Verificar la conexión\n",
    "try:\n",
    "    with engine.connect() as connection:\n",
    "        print(\"Conexión exitosa a Snowflake!\")\n",
    "except Exception as e:\n",
    "    print(f\"Error en la conexión: {e}\")"
   ]
  },
  {
   "cell_type": "code",
   "execution_count": 4,
   "metadata": {},
   "outputs": [],
   "source": [
    "raw = pd.read_sql(\"SELECT * FROM RAW.BANCO\", engine)"
   ]
  },
  {
   "cell_type": "code",
   "execution_count": 5,
   "metadata": {},
   "outputs": [
    {
     "name": "stdout",
     "output_type": "stream",
     "text": [
      "<class 'pandas.core.frame.DataFrame'>\n",
      "RangeIndex: 51000 entries, 0 to 50999\n",
      "Data columns (total 12 columns):\n",
      " #   Column                            Non-Null Count  Dtype  \n",
      "---  ------                            --------------  -----  \n",
      " 0   transaction_id                    51000 non-null  object \n",
      " 1   user_id                           51000 non-null  int64  \n",
      " 2   transaction_amount                48480 non-null  float64\n",
      " 3   transaction_type                  51000 non-null  object \n",
      " 4   time_of_transaction               48448 non-null  float64\n",
      " 5   device_used                       48527 non-null  object \n",
      " 6   location                          48453 non-null  object \n",
      " 7   previous_fraudulent_transactions  51000 non-null  int64  \n",
      " 8   account_age                       51000 non-null  int64  \n",
      " 9   number_of_transactions_last_24h   51000 non-null  int64  \n",
      " 10  payment_method                    48531 non-null  object \n",
      " 11  fraudulent                        51000 non-null  int64  \n",
      "dtypes: float64(2), int64(5), object(5)\n",
      "memory usage: 4.7+ MB\n"
     ]
    }
   ],
   "source": [
    "raw.info()"
   ]
  },
  {
   "cell_type": "markdown",
   "metadata": {},
   "source": [
    "Se identifica los valores nulos para decidir cómo deben ser tratados"
   ]
  },
  {
   "cell_type": "code",
   "execution_count": 6,
   "metadata": {},
   "outputs": [
    {
     "name": "stdout",
     "output_type": "stream",
     "text": [
      "Valores nulos:\n",
      " transaction_id                         0\n",
      "user_id                                0\n",
      "transaction_amount                  2520\n",
      "transaction_type                       0\n",
      "time_of_transaction                 2552\n",
      "device_used                         2473\n",
      "location                            2547\n",
      "previous_fraudulent_transactions       0\n",
      "account_age                            0\n",
      "number_of_transactions_last_24h        0\n",
      "payment_method                      2469\n",
      "fraudulent                             0\n",
      "dtype: int64\n"
     ]
    }
   ],
   "source": [
    "print('Valores nulos:\\n', raw.isnull().sum())"
   ]
  },
  {
   "cell_type": "code",
   "execution_count": null,
   "metadata": {},
   "outputs": [],
   "source": [
    "# Se crea una copia del dataframe original para evitar modificarlo directamente\n",
    "curated = raw.copy()"
   ]
  },
  {
   "cell_type": "code",
   "execution_count": null,
   "metadata": {},
   "outputs": [],
   "source": [
    "# Para las variables categoricas, se reemplazan los valores nulos por 'Unknown'\n",
    "for col in curated.columns:\n",
    "    if curated[col].dtype == 'object':  \n",
    "        curated[col] = curated[col].fillna('Unknown') "
   ]
  },
  {
   "cell_type": "code",
   "execution_count": null,
   "metadata": {},
   "outputs": [],
   "source": [
    "# Para las variables numericas, se reemplazan los valores nulos por la media de la 'location' o 'device_used' dependiendo el contexto de lo que se quiere analizar\n",
    "# Se reemplazan los valores nulos de 'transaction_amount' por la media de la 'location'\n",
    "# Se reemplazan los valores nulos de 'time_of_transaction' por la media de la 'device_used'\n",
    "def valores_nulos_num(curated):\n",
    "    \n",
    "    curated['transaction_amount'] = curated.groupby('location')['transaction_amount'].transform(lambda x: x.fillna(x.mean()))\n",
    "    curated['time_of_transaction'] = curated.groupby('device_used')['time_of_transaction'].transform(lambda x: x.fillna(x.mean()))\n",
    "    \n",
    "    return curated\n",
    "    \n",
    "curated = valores_nulos_num(curated)"
   ]
  },
  {
   "cell_type": "markdown",
   "metadata": {},
   "source": [
    "Se tiene un dataset curado, sin valores nulos ni duplicados"
   ]
  },
  {
   "cell_type": "code",
   "execution_count": 11,
   "metadata": {},
   "outputs": [
    {
     "name": "stdout",
     "output_type": "stream",
     "text": [
      "Valores nulos:\n",
      " transaction_id                      0\n",
      "user_id                             0\n",
      "transaction_amount                  0\n",
      "transaction_type                    0\n",
      "time_of_transaction                 0\n",
      "device_used                         0\n",
      "location                            0\n",
      "previous_fraudulent_transactions    0\n",
      "account_age                         0\n",
      "number_of_transactions_last_24h     0\n",
      "payment_method                      0\n",
      "fraudulent                          0\n",
      "dtype: int64\n"
     ]
    }
   ],
   "source": [
    "print('Valores nulos:\\n', curated.isnull().sum())"
   ]
  },
  {
   "cell_type": "markdown",
   "metadata": {},
   "source": [
    "Se exporta a la carpeta curated donde se almacena la base ya limpia y lista para realizar feature engineering"
   ]
  },
  {
   "cell_type": "code",
   "execution_count": 12,
   "metadata": {},
   "outputs": [],
   "source": [
    "curated.to_csv('D:\\Proyecto 2\\Data\\Clean\\curated.csv', index=False)"
   ]
  }
 ],
 "metadata": {
  "kernelspec": {
   "display_name": "base",
   "language": "python",
   "name": "python3"
  },
  "language_info": {
   "codemirror_mode": {
    "name": "ipython",
    "version": 3
   },
   "file_extension": ".py",
   "mimetype": "text/x-python",
   "name": "python",
   "nbconvert_exporter": "python",
   "pygments_lexer": "ipython3",
   "version": "3.10.9"
  }
 },
 "nbformat": 4,
 "nbformat_minor": 2
}
